{
 "cells": [
  {
   "cell_type": "markdown",
   "metadata": {},
   "source": [
    "# Porto Seguro"
   ]
  },
  {
   "cell_type": "code",
   "execution_count": 40,
   "metadata": {},
   "outputs": [
    {
     "data": {
      "text/plain": [
       "0.9368833498560166"
      ]
     },
     "execution_count": 40,
     "metadata": {},
     "output_type": "execute_result"
    }
   ],
   "source": [
    "rus = pd.read_csv('../data/processed/submission_rus.csv')\n",
    "ens = pd.read_csv('../data/processed/submission_ensemble.csv')\n",
    "preds = rus.set_index('id').join(ens.set_index('id'), rsuffix='_ens')\n",
    "(preds['predicted'] == preds['predicted_ens']).mean()"
   ]
  },
  {
   "cell_type": "code",
   "execution_count": 13,
   "metadata": {
    "_cell_guid": "b1076dfc-b9ad-4769-8c92-a6c4dae69d19",
    "_uuid": "8f2839f25d086af736a60e9eeb907d3b93b6e0e5",
    "execution": {
     "iopub.execute_input": "2021-08-29T17:35:50.141738Z",
     "iopub.status.busy": "2021-08-29T17:35:50.141316Z",
     "iopub.status.idle": "2021-08-29T17:36:00.824557Z",
     "shell.execute_reply": "2021-08-29T17:36:00.823435Z",
     "shell.execute_reply.started": "2021-08-29T17:35:50.141646Z"
    }
   },
   "outputs": [],
   "source": [
    "# Libs to deal with tabular data\n",
    "import numpy as np\n",
    "import pandas as pd\n",
    "pd.options.mode.chained_assignment = None\n",
    "pd.set_option('display.max_columns', None)\n",
    "pd.set_option('display.max_rows', 2000)\n",
    "\n",
    "# Statistics\n",
    "from scipy.stats import chi2_contingency\n",
    "from scipy.stats.contingency import expected_freq\n",
    "\n",
    "# Plotting packages\n",
    "import seaborn as sns\n",
    "sns.axes_style(\"darkgrid\")\n",
    "%matplotlib inline\n",
    "import matplotlib.pyplot as plt\n",
    "plt.style.use('seaborn')\n",
    "\n",
    "# Machine Learning\n",
    "from xverse.transformer import WOE\n",
    "from sklearn import preprocessing\n",
    "from sklearn.model_selection import train_test_split, StratifiedKFold, GridSearchCV\n",
    "from sklearn.inspection import permutation_importance\n",
    "from sklearn.feature_selection import mutual_info_classif\n",
    "from sklearn.metrics import recall_score, f1_score\n",
    "from boruta import BorutaPy\n",
    "from imblearn.under_sampling import RandomUnderSampler\n",
    "from lightgbm import LGBMClassifier\n",
    "\n",
    "# Optimization\n",
    "import optuna\n",
    "from optuna.samplers import TPESampler\n",
    "from optuna.visualization import plot_contour, plot_optimization_history\n",
    "from optuna.visualization import plot_param_importances, plot_slice\n",
    "\n",
    "# To display stuff in notebook\n",
    "from IPython.display import display, Markdown\n",
    "\n",
    "# Misc \n",
    "from joblib import Parallel, delayed\n",
    "from tqdm.notebook import tqdm\n",
    "import time\n",
    "import os\n",
    "import glob\n"
   ]
  },
  {
   "cell_type": "code",
   "execution_count": 14,
   "metadata": {
    "execution": {
     "iopub.execute_input": "2021-08-29T17:36:00.826714Z",
     "iopub.status.busy": "2021-08-29T17:36:00.826431Z",
     "iopub.status.idle": "2021-08-29T17:36:00.832445Z",
     "shell.execute_reply": "2021-08-29T17:36:00.831422Z",
     "shell.execute_reply.started": "2021-08-29T17:36:00.826683Z"
    }
   },
   "outputs": [],
   "source": [
    "def cramers_v(var1, var2):\n",
    "    cont_freq = pd.crosstab(var1, var2).values\n",
    "    n_obs = cont_freq.sum().sum()\n",
    "    chi2_test = chi2_contingency(cont_freq)\n",
    "    cramers_v = np.sqrt(chi2_test[0] / (n_obs * (min(cont_freq.shape) - 1)))\n",
    "    return cramers_v"
   ]
  },
  {
   "cell_type": "code",
   "execution_count": 15,
   "metadata": {
    "execution": {
     "iopub.execute_input": "2021-08-29T17:36:00.834620Z",
     "iopub.status.busy": "2021-08-29T17:36:00.834356Z",
     "iopub.status.idle": "2021-08-29T17:36:01.249007Z",
     "shell.execute_reply": "2021-08-29T17:36:01.247968Z",
     "shell.execute_reply.started": "2021-08-29T17:36:00.834595Z"
    }
   },
   "outputs": [],
   "source": [
    "train = pd.read_csv('../data/raw/train.csv')\n",
    "test = pd.read_csv('../data/raw/test.csv')\n",
    "feats = pd.read_csv('../data/raw/metadata.csv')"
   ]
  },
  {
   "cell_type": "code",
   "execution_count": 16,
   "metadata": {
    "execution": {
     "iopub.execute_input": "2021-08-29T17:36:01.250681Z",
     "iopub.status.busy": "2021-08-29T17:36:01.250423Z",
     "iopub.status.idle": "2021-08-29T17:36:01.279283Z",
     "shell.execute_reply": "2021-08-29T17:36:01.278231Z",
     "shell.execute_reply.started": "2021-08-29T17:36:01.250655Z"
    }
   },
   "outputs": [
    {
     "data": {
      "text/plain": [
       "{'quali_nom': array(['var1', 'var2', 'var3', 'var4', 'var5', 'var6', 'var7', 'var8',\n",
       "        'var9', 'var10', 'var11', 'var12', 'var13', 'var14', 'var15',\n",
       "        'var16', 'var17', 'var18', 'var19', 'var20', 'var21', 'var22',\n",
       "        'var23', 'var28', 'var29', 'var30', 'var31', 'var33', 'var34',\n",
       "        'var35', 'var36', 'var37', 'var38', 'var39', 'var41'], dtype=object),\n",
       " 'quali_ord': array(['var26', 'var32', 'var42', 'var43'], dtype=object),\n",
       " 'quanti_cont': array(['var55', 'var56', 'var57', 'var58', 'var59', 'var60', 'var61',\n",
       "        'var62', 'var63', 'var64', 'var65', 'var66'], dtype=object),\n",
       " 'quanti_dis': array(['var24', 'var25', 'var27', 'var40', 'var44', 'var45', 'var46',\n",
       "        'var47', 'var48', 'var49', 'var50', 'var51', 'var52', 'var53',\n",
       "        'var54', 'var67', 'var68'], dtype=object)}"
      ]
     },
     "execution_count": 16,
     "metadata": {},
     "output_type": "execute_result"
    }
   ],
   "source": [
    "feats = feats[~feats['Variavel cod'].isin(['id', 'y'])]\n",
    "feats['Variavel tipo'] = feats['Variavel tipo'].replace({\n",
    "    'Qualitativo nominal': 'quali_nom',\n",
    "    'Quantitativo discreto': 'quanti_dis',\n",
    "    'Quantitativo continua': 'quanti_cont',\n",
    "    'Qualitativo ordinal': 'quali_ord'\n",
    "})\n",
    "feat_type_dict = feats.groupby('Variavel tipo')['Variavel cod'].unique().to_dict()\n",
    "feat_type_dict"
   ]
  },
  {
   "cell_type": "code",
   "execution_count": 17,
   "metadata": {
    "execution": {
     "iopub.execute_input": "2021-08-29T17:36:01.280683Z",
     "iopub.status.busy": "2021-08-29T17:36:01.280428Z",
     "iopub.status.idle": "2021-08-29T17:36:01.288088Z",
     "shell.execute_reply": "2021-08-29T17:36:01.287193Z",
     "shell.execute_reply.started": "2021-08-29T17:36:01.280658Z"
    }
   },
   "outputs": [
    {
     "data": {
      "text/plain": [
       "(14123, 70)"
      ]
     },
     "metadata": {},
     "output_type": "display_data"
    },
    {
     "data": {
      "text/plain": [
       "(21183, 69)"
      ]
     },
     "metadata": {},
     "output_type": "display_data"
    }
   ],
   "source": [
    "display(train.shape)\n",
    "display(test.shape)"
   ]
  },
  {
   "cell_type": "markdown",
   "metadata": {},
   "source": [
    "# Análise\n",
    "\n",
    "- 68 variáveis \n",
    "- train 14123 linhas \n",
    "- test 21183 linhas\n",
    "- 20% eventos\n",
    "- Mesma quantidade de missing: (65,66), (26,58), (9,52), (15,16,17,18), (2,3)"
   ]
  },
  {
   "cell_type": "code",
   "execution_count": 19,
   "metadata": {
    "execution": {
     "iopub.execute_input": "2021-08-29T12:55:28.868868Z",
     "iopub.status.busy": "2021-08-29T12:55:28.868239Z",
     "iopub.status.idle": "2021-08-29T12:55:28.956431Z",
     "shell.execute_reply": "2021-08-29T12:55:28.955331Z",
     "shell.execute_reply.started": "2021-08-29T12:55:28.868828Z"
    },
    "scrolled": true
   },
   "outputs": [
    {
     "data": {
      "text/html": [
       "<div>\n",
       "<style scoped>\n",
       "    .dataframe tbody tr th:only-of-type {\n",
       "        vertical-align: middle;\n",
       "    }\n",
       "\n",
       "    .dataframe tbody tr th {\n",
       "        vertical-align: top;\n",
       "    }\n",
       "\n",
       "    .dataframe thead th {\n",
       "        text-align: right;\n",
       "    }\n",
       "</style>\n",
       "<table border=\"1\" class=\"dataframe\">\n",
       "  <thead>\n",
       "    <tr style=\"text-align: right;\">\n",
       "      <th></th>\n",
       "      <th>train</th>\n",
       "      <th>test</th>\n",
       "      <th>diff</th>\n",
       "    </tr>\n",
       "  </thead>\n",
       "  <tbody>\n",
       "    <tr>\n",
       "      <th>var65</th>\n",
       "      <td>0.863627</td>\n",
       "      <td>0.861493</td>\n",
       "      <td>0.002134</td>\n",
       "    </tr>\n",
       "    <tr>\n",
       "      <th>var66</th>\n",
       "      <td>0.863627</td>\n",
       "      <td>0.861493</td>\n",
       "      <td>0.002134</td>\n",
       "    </tr>\n",
       "    <tr>\n",
       "      <th>var60</th>\n",
       "      <td>0.459109</td>\n",
       "      <td>0.461077</td>\n",
       "      <td>0.001968</td>\n",
       "    </tr>\n",
       "    <tr>\n",
       "      <th>var10</th>\n",
       "      <td>0.165616</td>\n",
       "      <td>0.165699</td>\n",
       "      <td>0.000083</td>\n",
       "    </tr>\n",
       "    <tr>\n",
       "      <th>var8</th>\n",
       "      <td>0.156766</td>\n",
       "      <td>0.153850</td>\n",
       "      <td>0.002916</td>\n",
       "    </tr>\n",
       "    <tr>\n",
       "      <th>var59</th>\n",
       "      <td>0.154500</td>\n",
       "      <td>0.153519</td>\n",
       "      <td>0.000980</td>\n",
       "    </tr>\n",
       "    <tr>\n",
       "      <th>var12</th>\n",
       "      <td>0.148977</td>\n",
       "      <td>0.151348</td>\n",
       "      <td>0.002371</td>\n",
       "    </tr>\n",
       "    <tr>\n",
       "      <th>var7</th>\n",
       "      <td>0.134178</td>\n",
       "      <td>0.132370</td>\n",
       "      <td>0.001808</td>\n",
       "    </tr>\n",
       "    <tr>\n",
       "      <th>var6</th>\n",
       "      <td>0.132479</td>\n",
       "      <td>0.130199</td>\n",
       "      <td>0.002280</td>\n",
       "    </tr>\n",
       "    <tr>\n",
       "      <th>var11</th>\n",
       "      <td>0.121716</td>\n",
       "      <td>0.122740</td>\n",
       "      <td>0.001024</td>\n",
       "    </tr>\n",
       "    <tr>\n",
       "      <th>var57</th>\n",
       "      <td>0.112512</td>\n",
       "      <td>0.111505</td>\n",
       "      <td>0.001007</td>\n",
       "    </tr>\n",
       "    <tr>\n",
       "      <th>var56</th>\n",
       "      <td>0.112370</td>\n",
       "      <td>0.111410</td>\n",
       "      <td>0.000960</td>\n",
       "    </tr>\n",
       "    <tr>\n",
       "      <th>var26</th>\n",
       "      <td>0.111237</td>\n",
       "      <td>0.112732</td>\n",
       "      <td>0.001495</td>\n",
       "    </tr>\n",
       "    <tr>\n",
       "      <th>var58</th>\n",
       "      <td>0.111237</td>\n",
       "      <td>0.112732</td>\n",
       "      <td>0.001495</td>\n",
       "    </tr>\n",
       "    <tr>\n",
       "      <th>var9</th>\n",
       "      <td>0.108617</td>\n",
       "      <td>0.110088</td>\n",
       "      <td>0.001471</td>\n",
       "    </tr>\n",
       "    <tr>\n",
       "      <th>var52</th>\n",
       "      <td>0.108617</td>\n",
       "      <td>0.110088</td>\n",
       "      <td>0.001471</td>\n",
       "    </tr>\n",
       "    <tr>\n",
       "      <th>var18</th>\n",
       "      <td>0.097359</td>\n",
       "      <td>0.100033</td>\n",
       "      <td>0.002674</td>\n",
       "    </tr>\n",
       "    <tr>\n",
       "      <th>var17</th>\n",
       "      <td>0.097359</td>\n",
       "      <td>0.100033</td>\n",
       "      <td>0.002674</td>\n",
       "    </tr>\n",
       "    <tr>\n",
       "      <th>var16</th>\n",
       "      <td>0.097359</td>\n",
       "      <td>0.100033</td>\n",
       "      <td>0.002674</td>\n",
       "    </tr>\n",
       "    <tr>\n",
       "      <th>var15</th>\n",
       "      <td>0.097359</td>\n",
       "      <td>0.100033</td>\n",
       "      <td>0.002674</td>\n",
       "    </tr>\n",
       "    <tr>\n",
       "      <th>var4</th>\n",
       "      <td>0.066275</td>\n",
       "      <td>0.065666</td>\n",
       "      <td>0.000609</td>\n",
       "    </tr>\n",
       "    <tr>\n",
       "      <th>var3</th>\n",
       "      <td>0.042413</td>\n",
       "      <td>0.039654</td>\n",
       "      <td>0.002759</td>\n",
       "    </tr>\n",
       "    <tr>\n",
       "      <th>var2</th>\n",
       "      <td>0.042413</td>\n",
       "      <td>0.039607</td>\n",
       "      <td>0.002806</td>\n",
       "    </tr>\n",
       "    <tr>\n",
       "      <th>var67</th>\n",
       "      <td>0.041493</td>\n",
       "      <td>0.038238</td>\n",
       "      <td>0.003254</td>\n",
       "    </tr>\n",
       "    <tr>\n",
       "      <th>var61</th>\n",
       "      <td>0.024499</td>\n",
       "      <td>0.022660</td>\n",
       "      <td>0.001839</td>\n",
       "    </tr>\n",
       "    <tr>\n",
       "      <th>var68</th>\n",
       "      <td>0.002337</td>\n",
       "      <td>0.003352</td>\n",
       "      <td>0.001015</td>\n",
       "    </tr>\n",
       "    <tr>\n",
       "      <th>var51</th>\n",
       "      <td>0.000000</td>\n",
       "      <td>0.000000</td>\n",
       "      <td>0.000000</td>\n",
       "    </tr>\n",
       "    <tr>\n",
       "      <th>var45</th>\n",
       "      <td>0.000000</td>\n",
       "      <td>0.000000</td>\n",
       "      <td>0.000000</td>\n",
       "    </tr>\n",
       "    <tr>\n",
       "      <th>var46</th>\n",
       "      <td>0.000000</td>\n",
       "      <td>0.000000</td>\n",
       "      <td>0.000000</td>\n",
       "    </tr>\n",
       "    <tr>\n",
       "      <th>var47</th>\n",
       "      <td>0.000000</td>\n",
       "      <td>0.000000</td>\n",
       "      <td>0.000000</td>\n",
       "    </tr>\n",
       "    <tr>\n",
       "      <th>var48</th>\n",
       "      <td>0.000000</td>\n",
       "      <td>0.000000</td>\n",
       "      <td>0.000000</td>\n",
       "    </tr>\n",
       "    <tr>\n",
       "      <th>var49</th>\n",
       "      <td>0.000000</td>\n",
       "      <td>0.000000</td>\n",
       "      <td>0.000000</td>\n",
       "    </tr>\n",
       "    <tr>\n",
       "      <th>var50</th>\n",
       "      <td>0.000000</td>\n",
       "      <td>0.000000</td>\n",
       "      <td>0.000000</td>\n",
       "    </tr>\n",
       "    <tr>\n",
       "      <th>id</th>\n",
       "      <td>0.000000</td>\n",
       "      <td>0.000000</td>\n",
       "      <td>0.000000</td>\n",
       "    </tr>\n",
       "    <tr>\n",
       "      <th>var63</th>\n",
       "      <td>0.000000</td>\n",
       "      <td>0.000000</td>\n",
       "      <td>0.000000</td>\n",
       "    </tr>\n",
       "    <tr>\n",
       "      <th>var53</th>\n",
       "      <td>0.000000</td>\n",
       "      <td>0.000000</td>\n",
       "      <td>0.000000</td>\n",
       "    </tr>\n",
       "    <tr>\n",
       "      <th>var54</th>\n",
       "      <td>0.000000</td>\n",
       "      <td>0.000000</td>\n",
       "      <td>0.000000</td>\n",
       "    </tr>\n",
       "    <tr>\n",
       "      <th>var55</th>\n",
       "      <td>0.000000</td>\n",
       "      <td>0.000000</td>\n",
       "      <td>0.000000</td>\n",
       "    </tr>\n",
       "    <tr>\n",
       "      <th>var62</th>\n",
       "      <td>0.000000</td>\n",
       "      <td>0.000000</td>\n",
       "      <td>0.000000</td>\n",
       "    </tr>\n",
       "    <tr>\n",
       "      <th>var43</th>\n",
       "      <td>0.000000</td>\n",
       "      <td>0.000000</td>\n",
       "      <td>0.000000</td>\n",
       "    </tr>\n",
       "    <tr>\n",
       "      <th>var64</th>\n",
       "      <td>0.000000</td>\n",
       "      <td>0.000000</td>\n",
       "      <td>0.000000</td>\n",
       "    </tr>\n",
       "    <tr>\n",
       "      <th>var44</th>\n",
       "      <td>0.000000</td>\n",
       "      <td>0.000000</td>\n",
       "      <td>0.000000</td>\n",
       "    </tr>\n",
       "    <tr>\n",
       "      <th>var35</th>\n",
       "      <td>0.000000</td>\n",
       "      <td>0.000000</td>\n",
       "      <td>0.000000</td>\n",
       "    </tr>\n",
       "    <tr>\n",
       "      <th>var42</th>\n",
       "      <td>0.000000</td>\n",
       "      <td>0.000000</td>\n",
       "      <td>0.000000</td>\n",
       "    </tr>\n",
       "    <tr>\n",
       "      <th>var28</th>\n",
       "      <td>0.000000</td>\n",
       "      <td>0.000000</td>\n",
       "      <td>0.000000</td>\n",
       "    </tr>\n",
       "    <tr>\n",
       "      <th>var5</th>\n",
       "      <td>0.000000</td>\n",
       "      <td>0.000000</td>\n",
       "      <td>0.000000</td>\n",
       "    </tr>\n",
       "    <tr>\n",
       "      <th>var13</th>\n",
       "      <td>0.000000</td>\n",
       "      <td>0.000000</td>\n",
       "      <td>0.000000</td>\n",
       "    </tr>\n",
       "    <tr>\n",
       "      <th>var14</th>\n",
       "      <td>0.000000</td>\n",
       "      <td>0.000000</td>\n",
       "      <td>0.000000</td>\n",
       "    </tr>\n",
       "    <tr>\n",
       "      <th>var19</th>\n",
       "      <td>0.000000</td>\n",
       "      <td>0.000000</td>\n",
       "      <td>0.000000</td>\n",
       "    </tr>\n",
       "    <tr>\n",
       "      <th>var20</th>\n",
       "      <td>0.000000</td>\n",
       "      <td>0.000000</td>\n",
       "      <td>0.000000</td>\n",
       "    </tr>\n",
       "    <tr>\n",
       "      <th>var21</th>\n",
       "      <td>0.000000</td>\n",
       "      <td>0.000000</td>\n",
       "      <td>0.000000</td>\n",
       "    </tr>\n",
       "    <tr>\n",
       "      <th>var22</th>\n",
       "      <td>0.000000</td>\n",
       "      <td>0.000000</td>\n",
       "      <td>0.000000</td>\n",
       "    </tr>\n",
       "    <tr>\n",
       "      <th>var23</th>\n",
       "      <td>0.000000</td>\n",
       "      <td>0.000000</td>\n",
       "      <td>0.000000</td>\n",
       "    </tr>\n",
       "    <tr>\n",
       "      <th>var24</th>\n",
       "      <td>0.000000</td>\n",
       "      <td>0.000000</td>\n",
       "      <td>0.000000</td>\n",
       "    </tr>\n",
       "    <tr>\n",
       "      <th>var25</th>\n",
       "      <td>0.000000</td>\n",
       "      <td>0.000000</td>\n",
       "      <td>0.000000</td>\n",
       "    </tr>\n",
       "    <tr>\n",
       "      <th>var27</th>\n",
       "      <td>0.000000</td>\n",
       "      <td>0.000000</td>\n",
       "      <td>0.000000</td>\n",
       "    </tr>\n",
       "    <tr>\n",
       "      <th>var29</th>\n",
       "      <td>0.000000</td>\n",
       "      <td>0.000000</td>\n",
       "      <td>0.000000</td>\n",
       "    </tr>\n",
       "    <tr>\n",
       "      <th>var41</th>\n",
       "      <td>0.000000</td>\n",
       "      <td>0.000000</td>\n",
       "      <td>0.000000</td>\n",
       "    </tr>\n",
       "    <tr>\n",
       "      <th>var30</th>\n",
       "      <td>0.000000</td>\n",
       "      <td>0.000000</td>\n",
       "      <td>0.000000</td>\n",
       "    </tr>\n",
       "    <tr>\n",
       "      <th>var31</th>\n",
       "      <td>0.000000</td>\n",
       "      <td>0.000000</td>\n",
       "      <td>0.000000</td>\n",
       "    </tr>\n",
       "    <tr>\n",
       "      <th>var32</th>\n",
       "      <td>0.000000</td>\n",
       "      <td>0.000000</td>\n",
       "      <td>0.000000</td>\n",
       "    </tr>\n",
       "    <tr>\n",
       "      <th>var33</th>\n",
       "      <td>0.000000</td>\n",
       "      <td>0.000000</td>\n",
       "      <td>0.000000</td>\n",
       "    </tr>\n",
       "    <tr>\n",
       "      <th>var34</th>\n",
       "      <td>0.000000</td>\n",
       "      <td>0.000000</td>\n",
       "      <td>0.000000</td>\n",
       "    </tr>\n",
       "    <tr>\n",
       "      <th>var1</th>\n",
       "      <td>0.000000</td>\n",
       "      <td>0.000000</td>\n",
       "      <td>0.000000</td>\n",
       "    </tr>\n",
       "    <tr>\n",
       "      <th>var36</th>\n",
       "      <td>0.000000</td>\n",
       "      <td>0.000000</td>\n",
       "      <td>0.000000</td>\n",
       "    </tr>\n",
       "    <tr>\n",
       "      <th>var37</th>\n",
       "      <td>0.000000</td>\n",
       "      <td>0.000000</td>\n",
       "      <td>0.000000</td>\n",
       "    </tr>\n",
       "    <tr>\n",
       "      <th>var38</th>\n",
       "      <td>0.000000</td>\n",
       "      <td>0.000000</td>\n",
       "      <td>0.000000</td>\n",
       "    </tr>\n",
       "    <tr>\n",
       "      <th>var39</th>\n",
       "      <td>0.000000</td>\n",
       "      <td>0.000000</td>\n",
       "      <td>0.000000</td>\n",
       "    </tr>\n",
       "    <tr>\n",
       "      <th>var40</th>\n",
       "      <td>0.000000</td>\n",
       "      <td>0.000000</td>\n",
       "      <td>0.000000</td>\n",
       "    </tr>\n",
       "    <tr>\n",
       "      <th>y</th>\n",
       "      <td>0.000000</td>\n",
       "      <td>NaN</td>\n",
       "      <td>NaN</td>\n",
       "    </tr>\n",
       "  </tbody>\n",
       "</table>\n",
       "</div>"
      ],
      "text/plain": [
       "          train      test      diff\n",
       "var65  0.863627  0.861493  0.002134\n",
       "var66  0.863627  0.861493  0.002134\n",
       "var60  0.459109  0.461077  0.001968\n",
       "var10  0.165616  0.165699  0.000083\n",
       "var8   0.156766  0.153850  0.002916\n",
       "var59  0.154500  0.153519  0.000980\n",
       "var12  0.148977  0.151348  0.002371\n",
       "var7   0.134178  0.132370  0.001808\n",
       "var6   0.132479  0.130199  0.002280\n",
       "var11  0.121716  0.122740  0.001024\n",
       "var57  0.112512  0.111505  0.001007\n",
       "var56  0.112370  0.111410  0.000960\n",
       "var26  0.111237  0.112732  0.001495\n",
       "var58  0.111237  0.112732  0.001495\n",
       "var9   0.108617  0.110088  0.001471\n",
       "var52  0.108617  0.110088  0.001471\n",
       "var18  0.097359  0.100033  0.002674\n",
       "var17  0.097359  0.100033  0.002674\n",
       "var16  0.097359  0.100033  0.002674\n",
       "var15  0.097359  0.100033  0.002674\n",
       "var4   0.066275  0.065666  0.000609\n",
       "var3   0.042413  0.039654  0.002759\n",
       "var2   0.042413  0.039607  0.002806\n",
       "var67  0.041493  0.038238  0.003254\n",
       "var61  0.024499  0.022660  0.001839\n",
       "var68  0.002337  0.003352  0.001015\n",
       "var51  0.000000  0.000000  0.000000\n",
       "var45  0.000000  0.000000  0.000000\n",
       "var46  0.000000  0.000000  0.000000\n",
       "var47  0.000000  0.000000  0.000000\n",
       "var48  0.000000  0.000000  0.000000\n",
       "var49  0.000000  0.000000  0.000000\n",
       "var50  0.000000  0.000000  0.000000\n",
       "id     0.000000  0.000000  0.000000\n",
       "var63  0.000000  0.000000  0.000000\n",
       "var53  0.000000  0.000000  0.000000\n",
       "var54  0.000000  0.000000  0.000000\n",
       "var55  0.000000  0.000000  0.000000\n",
       "var62  0.000000  0.000000  0.000000\n",
       "var43  0.000000  0.000000  0.000000\n",
       "var64  0.000000  0.000000  0.000000\n",
       "var44  0.000000  0.000000  0.000000\n",
       "var35  0.000000  0.000000  0.000000\n",
       "var42  0.000000  0.000000  0.000000\n",
       "var28  0.000000  0.000000  0.000000\n",
       "var5   0.000000  0.000000  0.000000\n",
       "var13  0.000000  0.000000  0.000000\n",
       "var14  0.000000  0.000000  0.000000\n",
       "var19  0.000000  0.000000  0.000000\n",
       "var20  0.000000  0.000000  0.000000\n",
       "var21  0.000000  0.000000  0.000000\n",
       "var22  0.000000  0.000000  0.000000\n",
       "var23  0.000000  0.000000  0.000000\n",
       "var24  0.000000  0.000000  0.000000\n",
       "var25  0.000000  0.000000  0.000000\n",
       "var27  0.000000  0.000000  0.000000\n",
       "var29  0.000000  0.000000  0.000000\n",
       "var41  0.000000  0.000000  0.000000\n",
       "var30  0.000000  0.000000  0.000000\n",
       "var31  0.000000  0.000000  0.000000\n",
       "var32  0.000000  0.000000  0.000000\n",
       "var33  0.000000  0.000000  0.000000\n",
       "var34  0.000000  0.000000  0.000000\n",
       "var1   0.000000  0.000000  0.000000\n",
       "var36  0.000000  0.000000  0.000000\n",
       "var37  0.000000  0.000000  0.000000\n",
       "var38  0.000000  0.000000  0.000000\n",
       "var39  0.000000  0.000000  0.000000\n",
       "var40  0.000000  0.000000  0.000000\n",
       "y      0.000000       NaN       NaN"
      ]
     },
     "execution_count": 19,
     "metadata": {},
     "output_type": "execute_result"
    }
   ],
   "source": [
    "train = train.replace({-999:np.nan})\n",
    "test = test.replace({-999:np.nan})\n",
    "\n",
    "nulos = pd.concat([train.isnull().mean(), test.isnull().mean()], axis=1, keys=['train', 'test'])\n",
    "nulos['diff'] = (nulos['train'] - nulos['test']).abs()\n",
    "nulos.sort_values('train', ascending=False)"
   ]
  },
  {
   "cell_type": "markdown",
   "metadata": {},
   "source": [
    "## Quanti cont\n",
    "\n",
    "- Algumas bem correlacionadas entre si, tanto positivo quanto negativo\n",
    "- 8 tem nulos, 2 com a mesma quantidade de nulos\n",
    "- vars não padronizadas, escaladas entre 0 e 1\n",
    "- tem mesma média e desvio padrão no teste"
   ]
  },
  {
   "cell_type": "code",
   "execution_count": 20,
   "metadata": {
    "execution": {
     "iopub.execute_input": "2021-08-28T21:06:19.366639Z",
     "iopub.status.busy": "2021-08-28T21:06:19.366247Z",
     "iopub.status.idle": "2021-08-28T21:06:19.394454Z",
     "shell.execute_reply": "2021-08-28T21:06:19.393315Z",
     "shell.execute_reply.started": "2021-08-28T21:06:19.366608Z"
    }
   },
   "outputs": [
    {
     "data": {
      "text/html": [
       "<div>\n",
       "<style scoped>\n",
       "    .dataframe tbody tr th:only-of-type {\n",
       "        vertical-align: middle;\n",
       "    }\n",
       "\n",
       "    .dataframe tbody tr th {\n",
       "        vertical-align: top;\n",
       "    }\n",
       "\n",
       "    .dataframe thead th {\n",
       "        text-align: right;\n",
       "    }\n",
       "</style>\n",
       "<table border=\"1\" class=\"dataframe\">\n",
       "  <thead>\n",
       "    <tr style=\"text-align: right;\">\n",
       "      <th></th>\n",
       "      <th>var55</th>\n",
       "      <th>var56</th>\n",
       "      <th>var57</th>\n",
       "      <th>var58</th>\n",
       "      <th>var59</th>\n",
       "      <th>var60</th>\n",
       "      <th>var61</th>\n",
       "      <th>var62</th>\n",
       "      <th>var63</th>\n",
       "      <th>var64</th>\n",
       "      <th>var65</th>\n",
       "      <th>var66</th>\n",
       "    </tr>\n",
       "  </thead>\n",
       "  <tbody>\n",
       "    <tr>\n",
       "      <th>12197</th>\n",
       "      <td>0.202875</td>\n",
       "      <td>NaN</td>\n",
       "      <td>NaN</td>\n",
       "      <td>NaN</td>\n",
       "      <td>NaN</td>\n",
       "      <td>NaN</td>\n",
       "      <td>0.263389</td>\n",
       "      <td>0.071525</td>\n",
       "      <td>0.002018</td>\n",
       "      <td>0.017603</td>\n",
       "      <td>NaN</td>\n",
       "      <td>NaN</td>\n",
       "    </tr>\n",
       "    <tr>\n",
       "      <th>3023</th>\n",
       "      <td>0.209268</td>\n",
       "      <td>0.183</td>\n",
       "      <td>0.731183</td>\n",
       "      <td>0.064506</td>\n",
       "      <td>0.167932</td>\n",
       "      <td>0.000283</td>\n",
       "      <td>0.381612</td>\n",
       "      <td>0.130293</td>\n",
       "      <td>0.883956</td>\n",
       "      <td>0.043497</td>\n",
       "      <td>NaN</td>\n",
       "      <td>NaN</td>\n",
       "    </tr>\n",
       "    <tr>\n",
       "      <th>5825</th>\n",
       "      <td>0.207759</td>\n",
       "      <td>0.879</td>\n",
       "      <td>0.053763</td>\n",
       "      <td>0.021311</td>\n",
       "      <td>0.178848</td>\n",
       "      <td>0.000000</td>\n",
       "      <td>0.687305</td>\n",
       "      <td>0.128649</td>\n",
       "      <td>0.632694</td>\n",
       "      <td>0.048339</td>\n",
       "      <td>NaN</td>\n",
       "      <td>NaN</td>\n",
       "    </tr>\n",
       "    <tr>\n",
       "      <th>7145</th>\n",
       "      <td>0.225596</td>\n",
       "      <td>0.150</td>\n",
       "      <td>0.833333</td>\n",
       "      <td>0.030531</td>\n",
       "      <td>0.246202</td>\n",
       "      <td>0.262241</td>\n",
       "      <td>0.572812</td>\n",
       "      <td>0.032908</td>\n",
       "      <td>0.958628</td>\n",
       "      <td>0.021257</td>\n",
       "      <td>0.141028</td>\n",
       "      <td>0.004221</td>\n",
       "    </tr>\n",
       "    <tr>\n",
       "      <th>8914</th>\n",
       "      <td>0.205496</td>\n",
       "      <td>0.023</td>\n",
       "      <td>1.000000</td>\n",
       "      <td>0.010548</td>\n",
       "      <td>0.222022</td>\n",
       "      <td>0.050337</td>\n",
       "      <td>0.236815</td>\n",
       "      <td>0.061196</td>\n",
       "      <td>0.945510</td>\n",
       "      <td>0.014231</td>\n",
       "      <td>NaN</td>\n",
       "      <td>NaN</td>\n",
       "    </tr>\n",
       "    <tr>\n",
       "      <th>4576</th>\n",
       "      <td>0.209376</td>\n",
       "      <td>0.230</td>\n",
       "      <td>0.451613</td>\n",
       "      <td>0.013852</td>\n",
       "      <td>0.080070</td>\n",
       "      <td>NaN</td>\n",
       "      <td>0.141466</td>\n",
       "      <td>0.030545</td>\n",
       "      <td>0.885974</td>\n",
       "      <td>0.010232</td>\n",
       "      <td>NaN</td>\n",
       "      <td>NaN</td>\n",
       "    </tr>\n",
       "    <tr>\n",
       "      <th>1192</th>\n",
       "      <td>0.203261</td>\n",
       "      <td>0.225</td>\n",
       "      <td>0.451613</td>\n",
       "      <td>0.020294</td>\n",
       "      <td>0.112199</td>\n",
       "      <td>0.182758</td>\n",
       "      <td>0.411711</td>\n",
       "      <td>0.054471</td>\n",
       "      <td>0.986882</td>\n",
       "      <td>0.016760</td>\n",
       "      <td>NaN</td>\n",
       "      <td>NaN</td>\n",
       "    </tr>\n",
       "    <tr>\n",
       "      <th>2152</th>\n",
       "      <td>0.211435</td>\n",
       "      <td>0.647</td>\n",
       "      <td>0.101075</td>\n",
       "      <td>0.540556</td>\n",
       "      <td>0.171758</td>\n",
       "      <td>0.127250</td>\n",
       "      <td>0.398127</td>\n",
       "      <td>0.110924</td>\n",
       "      <td>0.895055</td>\n",
       "      <td>0.034657</td>\n",
       "      <td>NaN</td>\n",
       "      <td>NaN</td>\n",
       "    </tr>\n",
       "    <tr>\n",
       "      <th>9118</th>\n",
       "      <td>0.207837</td>\n",
       "      <td>0.294</td>\n",
       "      <td>0.367742</td>\n",
       "      <td>0.015293</td>\n",
       "      <td>0.124173</td>\n",
       "      <td>0.084427</td>\n",
       "      <td>0.334343</td>\n",
       "      <td>0.022564</td>\n",
       "      <td>0.954591</td>\n",
       "      <td>0.012506</td>\n",
       "      <td>NaN</td>\n",
       "      <td>NaN</td>\n",
       "    </tr>\n",
       "    <tr>\n",
       "      <th>803</th>\n",
       "      <td>0.212952</td>\n",
       "      <td>0.145</td>\n",
       "      <td>0.833333</td>\n",
       "      <td>0.032424</td>\n",
       "      <td>0.490926</td>\n",
       "      <td>0.291957</td>\n",
       "      <td>0.118165</td>\n",
       "      <td>0.066432</td>\n",
       "      <td>0.747730</td>\n",
       "      <td>0.077873</td>\n",
       "      <td>NaN</td>\n",
       "      <td>NaN</td>\n",
       "    </tr>\n",
       "  </tbody>\n",
       "</table>\n",
       "</div>"
      ],
      "text/plain": [
       "          var55  var56     var57     var58     var59     var60     var61  \\\n",
       "12197  0.202875    NaN       NaN       NaN       NaN       NaN  0.263389   \n",
       "3023   0.209268  0.183  0.731183  0.064506  0.167932  0.000283  0.381612   \n",
       "5825   0.207759  0.879  0.053763  0.021311  0.178848  0.000000  0.687305   \n",
       "7145   0.225596  0.150  0.833333  0.030531  0.246202  0.262241  0.572812   \n",
       "8914   0.205496  0.023  1.000000  0.010548  0.222022  0.050337  0.236815   \n",
       "4576   0.209376  0.230  0.451613  0.013852  0.080070       NaN  0.141466   \n",
       "1192   0.203261  0.225  0.451613  0.020294  0.112199  0.182758  0.411711   \n",
       "2152   0.211435  0.647  0.101075  0.540556  0.171758  0.127250  0.398127   \n",
       "9118   0.207837  0.294  0.367742  0.015293  0.124173  0.084427  0.334343   \n",
       "803    0.212952  0.145  0.833333  0.032424  0.490926  0.291957  0.118165   \n",
       "\n",
       "          var62     var63     var64     var65     var66  \n",
       "12197  0.071525  0.002018  0.017603       NaN       NaN  \n",
       "3023   0.130293  0.883956  0.043497       NaN       NaN  \n",
       "5825   0.128649  0.632694  0.048339       NaN       NaN  \n",
       "7145   0.032908  0.958628  0.021257  0.141028  0.004221  \n",
       "8914   0.061196  0.945510  0.014231       NaN       NaN  \n",
       "4576   0.030545  0.885974  0.010232       NaN       NaN  \n",
       "1192   0.054471  0.986882  0.016760       NaN       NaN  \n",
       "2152   0.110924  0.895055  0.034657       NaN       NaN  \n",
       "9118   0.022564  0.954591  0.012506       NaN       NaN  \n",
       "803    0.066432  0.747730  0.077873       NaN       NaN  "
      ]
     },
     "execution_count": 20,
     "metadata": {},
     "output_type": "execute_result"
    }
   ],
   "source": [
    "train[feat_type_dict['quanti_cont']].sample(10)"
   ]
  },
  {
   "cell_type": "code",
   "execution_count": 22,
   "metadata": {},
   "outputs": [
    {
     "data": {
      "text/plain": [
       "var58    0.120931\n",
       "var57    0.102259\n",
       "var56    0.102090\n",
       "var59    0.100958\n",
       "var60    0.070085\n",
       "var61    0.009498\n",
       "var65    0.006599\n",
       "var66    0.006599\n",
       "var55         NaN\n",
       "var62         NaN\n",
       "var63         NaN\n",
       "var64         NaN\n",
       "dtype: float64"
      ]
     },
     "execution_count": 22,
     "metadata": {},
     "output_type": "execute_result"
    }
   ],
   "source": [
    "train[feat_type_dict['quanti_cont']].isnull().corrwith(train['y'], method=cramers_v).sort_values(ascending=False)"
   ]
  },
  {
   "cell_type": "code",
   "execution_count": 24,
   "metadata": {
    "execution": {
     "iopub.execute_input": "2021-08-28T21:06:25.392682Z",
     "iopub.status.busy": "2021-08-28T21:06:25.392278Z",
     "iopub.status.idle": "2021-08-28T21:06:43.661409Z",
     "shell.execute_reply": "2021-08-28T21:06:43.660364Z",
     "shell.execute_reply.started": "2021-08-28T21:06:25.392649Z"
    },
    "scrolled": false
   },
   "outputs": [
    {
     "data": {
      "image/png": "[encoded data removed]",
      "text/plain": [
       "<Figure size 576x396 with 1 Axes>"
      ]
     },
     "metadata": {},
     "output_type": "display_data"
    },
    {
     "data": {
      "image/png": "[encoded data removed]",
      "text/plain": [
       "<Figure size 576x396 with 1 Axes>"
      ]
     },
     "metadata": {},
     "output_type": "display_data"
    },
    {
     "data": {
      "image/png": "[encoded data removed]",
      "text/plain": [
       "<Figure size 576x396 with 1 Axes>"
      ]
     },
     "metadata": {},
     "output_type": "display_data"
    },
    {
     "data": {
      "image/png": "[encoded data removed]",
      "text/plain": [
       "<Figure size 576x396 with 1 Axes>"
      ]
     },
     "metadata": {},
     "output_type": "display_data"
    },
    {
     "data": {
      "image/png": "[encoded data removed]",
      "text/plain": [
       "<Figure size 576x396 with 1 Axes>"
      ]
     },
     "metadata": {},
     "output_type": "display_data"
    },
    {
     "data": {
      "image/png": "[encoded data removed]",
      "text/plain": [
       "<Figure size 576x396 with 1 Axes>"
      ]
     },
     "metadata": {},
     "output_type": "display_data"
    },
    {
     "data": {
      "image/png": "[encoded data removed]",
      "text/plain": [
       "<Figure size 576x396 with 1 Axes>"
      ]
     },
     "metadata": {},
     "output_type": "display_data"
    },
    {
     "data": {
      "image/png": "[encoded data removed]",
      "text/plain": [
       "<Figure size 576x396 with 1 Axes>"
      ]
     },
     "metadata": {},
     "output_type": "display_data"
    },
    {
     "data": {
      "image/png": "[encoded data removed]",
      "text/plain": [
       "<Figure size 576x396 with 1 Axes>"
      ]
     },
     "metadata": {},
     "output_type": "display_data"
    },
    {
     "data": {
      "image/png": "[encoded data removed]",
      "text/plain": [
       "<Figure size 576x396 with 1 Axes>"
      ]
     },
     "metadata": {},
     "output_type": "display_data"
    },
    {
     "data": {
      "image/png": "[encoded data removed]",
      "text/plain": [
       "<Figure size 576x396 with 1 Axes>"
      ]
     },
     "metadata": {},
     "output_type": "display_data"
    },
    {
     "data": {
      "image/png": "[encoded data removed]",
      "text/plain": [
       "<Figure size 576x396 with 1 Axes>"
      ]
     },
     "metadata": {},
     "output_type": "display_data"
    }
   ],
   "source": [
    "for col in feat_type_dict['quanti_cont']:\n",
    "    sns.histplot(data=train, x=col, hue='y')\n",
    "    plt.title(col)\n",
    "    plt.show()"
   ]
  },
  {
   "cell_type": "code",
   "execution_count": 25,
   "metadata": {
    "execution": {
     "iopub.execute_input": "2021-08-28T21:06:43.663113Z",
     "iopub.status.busy": "2021-08-28T21:06:43.66281Z",
     "iopub.status.idle": "2021-08-28T21:06:43.685057Z",
     "shell.execute_reply": "2021-08-28T21:06:43.684166Z",
     "shell.execute_reply.started": "2021-08-28T21:06:43.663085Z"
    }
   },
   "outputs": [
    {
     "data": {
      "text/plain": [
       "var55    14003\n",
       "var56      647\n",
       "var57       20\n",
       "var58     8093\n",
       "var59     8813\n",
       "var60     6776\n",
       "var61     9435\n",
       "var62    11613\n",
       "var63      878\n",
       "var64     3619\n",
       "var65     1542\n",
       "var66      180\n",
       "dtype: int64"
      ]
     },
     "execution_count": 25,
     "metadata": {},
     "output_type": "execute_result"
    }
   ],
   "source": [
    "train[feat_type_dict['quanti_cont']].nunique()"
   ]
  },
  {
   "cell_type": "code",
   "execution_count": 23,
   "metadata": {
    "execution": {
     "iopub.execute_input": "2021-08-28T21:07:00.829341Z",
     "iopub.status.busy": "2021-08-28T21:07:00.828922Z",
     "iopub.status.idle": "2021-08-28T21:07:00.842233Z",
     "shell.execute_reply": "2021-08-28T21:07:00.840759Z",
     "shell.execute_reply.started": "2021-08-28T21:07:00.829309Z"
    }
   },
   "outputs": [
    {
     "data": {
      "text/plain": [
       "var55    0.000000\n",
       "var56    0.112370\n",
       "var57    0.112512\n",
       "var58    0.111237\n",
       "var59    0.154500\n",
       "var60    0.459109\n",
       "var61    0.024499\n",
       "var62    0.000000\n",
       "var63    0.000000\n",
       "var64    0.000000\n",
       "var65    0.863627\n",
       "var66    0.863627\n",
       "dtype: float64"
      ]
     },
     "execution_count": 23,
     "metadata": {},
     "output_type": "execute_result"
    }
   ],
   "source": [
    "train[feat_type_dict['quanti_cont']].isnull().mean()"
   ]
  },
  {
   "cell_type": "code",
   "execution_count": 26,
   "metadata": {
    "execution": {
     "iopub.execute_input": "2021-08-28T21:07:01.078558Z",
     "iopub.status.busy": "2021-08-28T21:07:01.078202Z",
     "iopub.status.idle": "2021-08-28T21:07:01.471215Z",
     "shell.execute_reply": "2021-08-28T21:07:01.470284Z",
     "shell.execute_reply.started": "2021-08-28T21:07:01.078523Z"
    }
   },
   "outputs": [
    {
     "data": {
      "text/plain": [
       "<AxesSubplot:>"
      ]
     },
     "execution_count": 26,
     "metadata": {},
     "output_type": "execute_result"
    },
    {
     "data": {
      "image/png": "[encoded data removed]",
      "text/plain": [
       "<Figure size 576x396 with 2 Axes>"
      ]
     },
     "metadata": {},
     "output_type": "display_data"
    }
   ],
   "source": [
    "sns.heatmap(train[feat_type_dict['quanti_cont']].corr())"
   ]
  },
  {
   "cell_type": "code",
   "execution_count": 27,
   "metadata": {
    "collapsed": true,
    "execution": {
     "iopub.execute_input": "2021-08-28T21:07:05.910757Z",
     "iopub.status.busy": "2021-08-28T21:07:05.910345Z",
     "iopub.status.idle": "2021-08-28T21:07:06.010839Z",
     "shell.execute_reply": "2021-08-28T21:07:06.009792Z",
     "shell.execute_reply.started": "2021-08-28T21:07:05.910718Z"
    }
   },
   "outputs": [
    {
     "data": {
      "text/html": [
       "<div>\n",
       "<style scoped>\n",
       "    .dataframe tbody tr th:only-of-type {\n",
       "        vertical-align: middle;\n",
       "    }\n",
       "\n",
       "    .dataframe tbody tr th {\n",
       "        vertical-align: top;\n",
       "    }\n",
       "\n",
       "    .dataframe thead th {\n",
       "        text-align: right;\n",
       "    }\n",
       "</style>\n",
       "<table border=\"1\" class=\"dataframe\">\n",
       "  <thead>\n",
       "    <tr style=\"text-align: right;\">\n",
       "      <th></th>\n",
       "      <th></th>\n",
       "      <th>var55</th>\n",
       "      <th>var56</th>\n",
       "      <th>var57</th>\n",
       "      <th>var58</th>\n",
       "      <th>var59</th>\n",
       "      <th>var60</th>\n",
       "      <th>var61</th>\n",
       "      <th>var62</th>\n",
       "      <th>var63</th>\n",
       "      <th>var64</th>\n",
       "      <th>var65</th>\n",
       "      <th>var66</th>\n",
       "    </tr>\n",
       "  </thead>\n",
       "  <tbody>\n",
       "    <tr>\n",
       "      <th rowspan=\"8\" valign=\"top\">train</th>\n",
       "      <th>count</th>\n",
       "      <td>14123.000000</td>\n",
       "      <td>12536.000000</td>\n",
       "      <td>12534.000000</td>\n",
       "      <td>12552.000000</td>\n",
       "      <td>11941.000000</td>\n",
       "      <td>7639.000000</td>\n",
       "      <td>13777.000000</td>\n",
       "      <td>14123.000000</td>\n",
       "      <td>14123.000000</td>\n",
       "      <td>14123.000000</td>\n",
       "      <td>1926.000000</td>\n",
       "      <td>1926.000000</td>\n",
       "    </tr>\n",
       "    <tr>\n",
       "      <th>mean</th>\n",
       "      <td>0.216031</td>\n",
       "      <td>0.490075</td>\n",
       "      <td>0.345775</td>\n",
       "      <td>0.116598</td>\n",
       "      <td>0.221588</td>\n",
       "      <td>0.203008</td>\n",
       "      <td>0.270888</td>\n",
       "      <td>0.073086</td>\n",
       "      <td>0.779221</td>\n",
       "      <td>0.028778</td>\n",
       "      <td>0.301400</td>\n",
       "      <td>0.007116</td>\n",
       "    </tr>\n",
       "    <tr>\n",
       "      <th>std</th>\n",
       "      <td>0.022642</td>\n",
       "      <td>0.325270</td>\n",
       "      <td>0.357000</td>\n",
       "      <td>0.138780</td>\n",
       "      <td>0.120008</td>\n",
       "      <td>0.204867</td>\n",
       "      <td>0.138317</td>\n",
       "      <td>0.053963</td>\n",
       "      <td>0.234068</td>\n",
       "      <td>0.018681</td>\n",
       "      <td>0.227254</td>\n",
       "      <td>0.029982</td>\n",
       "    </tr>\n",
       "    <tr>\n",
       "      <th>min</th>\n",
       "      <td>0.000000</td>\n",
       "      <td>0.000000</td>\n",
       "      <td>0.000000</td>\n",
       "      <td>0.000000</td>\n",
       "      <td>0.000000</td>\n",
       "      <td>0.000000</td>\n",
       "      <td>0.000000</td>\n",
       "      <td>0.000000</td>\n",
       "      <td>0.000000</td>\n",
       "      <td>0.004267</td>\n",
       "      <td>0.000000</td>\n",
       "      <td>0.000000</td>\n",
       "    </tr>\n",
       "    <tr>\n",
       "      <th>25%</th>\n",
       "      <td>0.205161</td>\n",
       "      <td>0.186000</td>\n",
       "      <td>0.078495</td>\n",
       "      <td>0.023393</td>\n",
       "      <td>0.137193</td>\n",
       "      <td>0.051803</td>\n",
       "      <td>0.175993</td>\n",
       "      <td>0.040391</td>\n",
       "      <td>0.706357</td>\n",
       "      <td>0.018357</td>\n",
       "      <td>0.121432</td>\n",
       "      <td>0.002010</td>\n",
       "    </tr>\n",
       "    <tr>\n",
       "      <th>50%</th>\n",
       "      <td>0.209465</td>\n",
       "      <td>0.453000</td>\n",
       "      <td>0.122581</td>\n",
       "      <td>0.062249</td>\n",
       "      <td>0.202046</td>\n",
       "      <td>0.135267</td>\n",
       "      <td>0.243053</td>\n",
       "      <td>0.060265</td>\n",
       "      <td>0.877901</td>\n",
       "      <td>0.023480</td>\n",
       "      <td>0.251427</td>\n",
       "      <td>0.003199</td>\n",
       "    </tr>\n",
       "    <tr>\n",
       "      <th>75%</th>\n",
       "      <td>0.218285</td>\n",
       "      <td>0.820000</td>\n",
       "      <td>0.731183</td>\n",
       "      <td>0.159355</td>\n",
       "      <td>0.275253</td>\n",
       "      <td>0.286263</td>\n",
       "      <td>0.347631</td>\n",
       "      <td>0.088831</td>\n",
       "      <td>0.930373</td>\n",
       "      <td>0.034581</td>\n",
       "      <td>0.425166</td>\n",
       "      <td>0.006030</td>\n",
       "    </tr>\n",
       "    <tr>\n",
       "      <th>max</th>\n",
       "      <td>0.750858</td>\n",
       "      <td>1.000000</td>\n",
       "      <td>1.000000</td>\n",
       "      <td>1.000000</td>\n",
       "      <td>0.913773</td>\n",
       "      <td>1.000000</td>\n",
       "      <td>0.934994</td>\n",
       "      <td>0.814846</td>\n",
       "      <td>1.000000</td>\n",
       "      <td>0.387386</td>\n",
       "      <td>1.000000</td>\n",
       "      <td>1.000000</td>\n",
       "    </tr>\n",
       "    <tr>\n",
       "      <th rowspan=\"8\" valign=\"top\">test</th>\n",
       "      <th>count</th>\n",
       "      <td>21183.000000</td>\n",
       "      <td>18823.000000</td>\n",
       "      <td>18821.000000</td>\n",
       "      <td>18795.000000</td>\n",
       "      <td>17931.000000</td>\n",
       "      <td>11416.000000</td>\n",
       "      <td>20703.000000</td>\n",
       "      <td>21183.000000</td>\n",
       "      <td>21183.000000</td>\n",
       "      <td>21183.000000</td>\n",
       "      <td>2934.000000</td>\n",
       "      <td>2934.000000</td>\n",
       "    </tr>\n",
       "    <tr>\n",
       "      <th>mean</th>\n",
       "      <td>0.216181</td>\n",
       "      <td>0.478490</td>\n",
       "      <td>0.361095</td>\n",
       "      <td>0.115029</td>\n",
       "      <td>0.222856</td>\n",
       "      <td>0.201941</td>\n",
       "      <td>0.269854</td>\n",
       "      <td>0.073109</td>\n",
       "      <td>0.779848</td>\n",
       "      <td>0.028984</td>\n",
       "      <td>0.302586</td>\n",
       "      <td>0.006880</td>\n",
       "    </tr>\n",
       "    <tr>\n",
       "      <th>std</th>\n",
       "      <td>0.024830</td>\n",
       "      <td>0.326247</td>\n",
       "      <td>0.363729</td>\n",
       "      <td>0.139124</td>\n",
       "      <td>0.121631</td>\n",
       "      <td>0.207543</td>\n",
       "      <td>0.136865</td>\n",
       "      <td>0.055543</td>\n",
       "      <td>0.233090</td>\n",
       "      <td>0.020150</td>\n",
       "      <td>0.221812</td>\n",
       "      <td>0.018943</td>\n",
       "    </tr>\n",
       "    <tr>\n",
       "      <th>min</th>\n",
       "      <td>0.128914</td>\n",
       "      <td>0.000000</td>\n",
       "      <td>0.000000</td>\n",
       "      <td>0.000000</td>\n",
       "      <td>0.001559</td>\n",
       "      <td>0.000000</td>\n",
       "      <td>0.004547</td>\n",
       "      <td>0.000460</td>\n",
       "      <td>0.000000</td>\n",
       "      <td>0.000000</td>\n",
       "      <td>0.000000</td>\n",
       "      <td>0.000000</td>\n",
       "    </tr>\n",
       "    <tr>\n",
       "      <th>25%</th>\n",
       "      <td>0.205040</td>\n",
       "      <td>0.177000</td>\n",
       "      <td>0.078495</td>\n",
       "      <td>0.022803</td>\n",
       "      <td>0.137489</td>\n",
       "      <td>0.051048</td>\n",
       "      <td>0.175001</td>\n",
       "      <td>0.039955</td>\n",
       "      <td>0.716448</td>\n",
       "      <td>0.018408</td>\n",
       "      <td>0.128221</td>\n",
       "      <td>0.002010</td>\n",
       "    </tr>\n",
       "    <tr>\n",
       "      <th>50%</th>\n",
       "      <td>0.209355</td>\n",
       "      <td>0.433000</td>\n",
       "      <td>0.150538</td>\n",
       "      <td>0.059374</td>\n",
       "      <td>0.203198</td>\n",
       "      <td>0.133296</td>\n",
       "      <td>0.243253</td>\n",
       "      <td>0.060225</td>\n",
       "      <td>0.877901</td>\n",
       "      <td>0.023480</td>\n",
       "      <td>0.254976</td>\n",
       "      <td>0.003015</td>\n",
       "    </tr>\n",
       "    <tr>\n",
       "      <th>75%</th>\n",
       "      <td>0.218251</td>\n",
       "      <td>0.809000</td>\n",
       "      <td>0.731183</td>\n",
       "      <td>0.155285</td>\n",
       "      <td>0.276462</td>\n",
       "      <td>0.282056</td>\n",
       "      <td>0.347102</td>\n",
       "      <td>0.088890</td>\n",
       "      <td>0.929364</td>\n",
       "      <td>0.034798</td>\n",
       "      <td>0.433807</td>\n",
       "      <td>0.006030</td>\n",
       "    </tr>\n",
       "    <tr>\n",
       "      <th>max</th>\n",
       "      <td>1.000000</td>\n",
       "      <td>1.000000</td>\n",
       "      <td>1.000000</td>\n",
       "      <td>0.968620</td>\n",
       "      <td>1.000000</td>\n",
       "      <td>0.993411</td>\n",
       "      <td>1.000000</td>\n",
       "      <td>1.000000</td>\n",
       "      <td>1.000000</td>\n",
       "      <td>1.000000</td>\n",
       "      <td>0.998457</td>\n",
       "      <td>0.392630</td>\n",
       "    </tr>\n",
       "  </tbody>\n",
       "</table>\n",
       "</div>"
      ],
      "text/plain": [
       "                    var55         var56         var57         var58  \\\n",
       "train count  14123.000000  12536.000000  12534.000000  12552.000000   \n",
       "      mean       0.216031      0.490075      0.345775      0.116598   \n",
       "      std        0.022642      0.325270      0.357000      0.138780   \n",
       "      min        0.000000      0.000000      0.000000      0.000000   \n",
       "      25%        0.205161      0.186000      0.078495      0.023393   \n",
       "      50%        0.209465      0.453000      0.122581      0.062249   \n",
       "      75%        0.218285      0.820000      0.731183      0.159355   \n",
       "      max        0.750858      1.000000      1.000000      1.000000   \n",
       "test  count  21183.000000  18823.000000  18821.000000  18795.000000   \n",
       "      mean       0.216181      0.478490      0.361095      0.115029   \n",
       "      std        0.024830      0.326247      0.363729      0.139124   \n",
       "      min        0.128914      0.000000      0.000000      0.000000   \n",
       "      25%        0.205040      0.177000      0.078495      0.022803   \n",
       "      50%        0.209355      0.433000      0.150538      0.059374   \n",
       "      75%        0.218251      0.809000      0.731183      0.155285   \n",
       "      max        1.000000      1.000000      1.000000      0.968620   \n",
       "\n",
       "                    var59         var60         var61         var62  \\\n",
       "train count  11941.000000   7639.000000  13777.000000  14123.000000   \n",
       "      mean       0.221588      0.203008      0.270888      0.073086   \n",
       "      std        0.120008      0.204867      0.138317      0.053963   \n",
       "      min        0.000000      0.000000      0.000000      0.000000   \n",
       "      25%        0.137193      0.051803      0.175993      0.040391   \n",
       "      50%        0.202046      0.135267      0.243053      0.060265   \n",
       "      75%        0.275253      0.286263      0.347631      0.088831   \n",
       "      max        0.913773      1.000000      0.934994      0.814846   \n",
       "test  count  17931.000000  11416.000000  20703.000000  21183.000000   \n",
       "      mean       0.222856      0.201941      0.269854      0.073109   \n",
       "      std        0.121631      0.207543      0.136865      0.055543   \n",
       "      min        0.001559      0.000000      0.004547      0.000460   \n",
       "      25%        0.137489      0.051048      0.175001      0.039955   \n",
       "      50%        0.203198      0.133296      0.243253      0.060225   \n",
       "      75%        0.276462      0.282056      0.347102      0.088890   \n",
       "      max        1.000000      0.993411      1.000000      1.000000   \n",
       "\n",
       "                    var63         var64        var65        var66  \n",
       "train count  14123.000000  14123.000000  1926.000000  1926.000000  \n",
       "      mean       0.779221      0.028778     0.301400     0.007116  \n",
       "      std        0.234068      0.018681     0.227254     0.029982  \n",
       "      min        0.000000      0.004267     0.000000     0.000000  \n",
       "      25%        0.706357      0.018357     0.121432     0.002010  \n",
       "      50%        0.877901      0.023480     0.251427     0.003199  \n",
       "      75%        0.930373      0.034581     0.425166     0.006030  \n",
       "      max        1.000000      0.387386     1.000000     1.000000  \n",
       "test  count  21183.000000  21183.000000  2934.000000  2934.000000  \n",
       "      mean       0.779848      0.028984     0.302586     0.006880  \n",
       "      std        0.233090      0.020150     0.221812     0.018943  \n",
       "      min        0.000000      0.000000     0.000000     0.000000  \n",
       "      25%        0.716448      0.018408     0.128221     0.002010  \n",
       "      50%        0.877901      0.023480     0.254976     0.003015  \n",
       "      75%        0.929364      0.034798     0.433807     0.006030  \n",
       "      max        1.000000      1.000000     0.998457     0.392630  "
      ]
     },
     "execution_count": 27,
     "metadata": {},
     "output_type": "execute_result"
    }
   ],
   "source": [
    "pd.concat([\n",
    "    train[feat_type_dict['quanti_cont']].describe(),\n",
    "    test[feat_type_dict['quanti_cont']].describe()\n",
    "], axis=0, keys=['train', 'test'])"
   ]
  },
  {
   "cell_type": "code",
   "execution_count": 28,
   "metadata": {
    "execution": {
     "iopub.execute_input": "2021-08-28T21:07:08.672888Z",
     "iopub.status.busy": "2021-08-28T21:07:08.67247Z",
     "iopub.status.idle": "2021-08-28T21:07:08.724138Z",
     "shell.execute_reply": "2021-08-28T21:07:08.723237Z",
     "shell.execute_reply.started": "2021-08-28T21:07:08.672836Z"
    }
   },
   "outputs": [
    {
     "data": {
      "text/plain": [
       "var57   -0.067250\n",
       "var59   -0.062969\n",
       "var55   -0.049646\n",
       "var61   -0.032370\n",
       "var66   -0.011143\n",
       "var60    0.004051\n",
       "var65    0.011113\n",
       "var64    0.033174\n",
       "var62    0.035860\n",
       "var58    0.036724\n",
       "var56    0.066562\n",
       "var63    0.082397\n",
       "dtype: float64"
      ]
     },
     "execution_count": 28,
     "metadata": {},
     "output_type": "execute_result"
    }
   ],
   "source": [
    "train[feat_type_dict['quanti_cont']].corrwith(train['y'], method='spearman').sort_values()"
   ]
  },
  {
   "cell_type": "markdown",
   "metadata": {},
   "source": [
    "## Quanti dis\n",
    "\n",
    "- 15 sao discretas, 2 parecem continuas\n",
    "- mesmas distribuicoes no teste\n",
    "- o teste tem alguns valores maximos que não estão no treino"
   ]
  },
  {
   "cell_type": "code",
   "execution_count": null,
   "metadata": {
    "execution": {
     "iopub.execute_input": "2021-08-28T21:05:02.541444Z",
     "iopub.status.busy": "2021-08-28T21:05:02.541008Z",
     "iopub.status.idle": "2021-08-28T21:05:02.583448Z",
     "shell.execute_reply": "2021-08-28T21:05:02.582535Z",
     "shell.execute_reply.started": "2021-08-28T21:05:02.541407Z"
    }
   },
   "outputs": [],
   "source": [
    "train[feat_type_dict['quanti_dis']].sample(10)"
   ]
  },
  {
   "cell_type": "code",
   "execution_count": null,
   "metadata": {
    "execution": {
     "iopub.execute_input": "2021-08-28T21:04:54.767252Z",
     "iopub.status.busy": "2021-08-28T21:04:54.766927Z",
     "iopub.status.idle": "2021-08-28T21:04:54.778457Z",
     "shell.execute_reply": "2021-08-28T21:04:54.777503Z",
     "shell.execute_reply.started": "2021-08-28T21:04:54.767223Z"
    }
   },
   "outputs": [],
   "source": [
    "train[feat_type_dict['quanti_dis']].isnull().mean()"
   ]
  },
  {
   "cell_type": "code",
   "execution_count": null,
   "metadata": {
    "execution": {
     "iopub.execute_input": "2021-08-28T21:07:17.349358Z",
     "iopub.status.busy": "2021-08-28T21:07:17.348749Z",
     "iopub.status.idle": "2021-08-28T21:07:17.369756Z",
     "shell.execute_reply": "2021-08-28T21:07:17.368987Z",
     "shell.execute_reply.started": "2021-08-28T21:07:17.34932Z"
    }
   },
   "outputs": [],
   "source": [
    "train[feat_type_dict['quanti_dis']].nunique()"
   ]
  },
  {
   "cell_type": "code",
   "execution_count": null,
   "metadata": {
    "execution": {
     "iopub.execute_input": "2021-08-28T21:04:25.229437Z",
     "iopub.status.busy": "2021-08-28T21:04:25.229045Z",
     "iopub.status.idle": "2021-08-28T21:04:33.075181Z",
     "shell.execute_reply": "2021-08-28T21:04:33.074201Z",
     "shell.execute_reply.started": "2021-08-28T21:04:25.229404Z"
    }
   },
   "outputs": [],
   "source": [
    "for col in train[feat_type_dict['quanti_dis']]:\n",
    "    sns.countplot(data=train, x= col, hue='y')\n",
    "    plt.title(col)\n",
    "    plt.show()"
   ]
  },
  {
   "cell_type": "code",
   "execution_count": null,
   "metadata": {
    "execution": {
     "iopub.execute_input": "2021-08-28T21:08:00.376779Z",
     "iopub.status.busy": "2021-08-28T21:08:00.376222Z",
     "iopub.status.idle": "2021-08-28T21:08:00.501419Z",
     "shell.execute_reply": "2021-08-28T21:08:00.500717Z",
     "shell.execute_reply.started": "2021-08-28T21:08:00.376746Z"
    }
   },
   "outputs": [],
   "source": [
    "pd.concat([\n",
    "    train[feat_type_dict['quanti_dis']].describe(),\n",
    "    test[feat_type_dict['quanti_dis']].describe()\n",
    "], axis=0, keys=['train', 'test'])"
   ]
  },
  {
   "cell_type": "code",
   "execution_count": null,
   "metadata": {
    "execution": {
     "iopub.execute_input": "2021-08-28T21:47:10.248456Z",
     "iopub.status.busy": "2021-08-28T21:47:10.247783Z",
     "iopub.status.idle": "2021-08-28T21:47:10.589359Z",
     "shell.execute_reply": "2021-08-28T21:47:10.588081Z",
     "shell.execute_reply.started": "2021-08-28T21:47:10.248406Z"
    }
   },
   "outputs": [],
   "source": [
    "train[feat_type_dict['quanti_dis']].corrwith(train['y'], method=cramers_v).sort_values(ascending=False)"
   ]
  },
  {
   "cell_type": "markdown",
   "metadata": {},
   "source": [
    "## Quali nom\n",
    "\n",
    "- treino e test similares\n",
    "- algumas variaveis nao parecem qualitativas nominais.\n",
    "- a % de missing maximo eh de 15%\n",
    "- a maioria das variaveis tem muitas categorias\n",
    "- 2 variaveis tem pouquissimos valores iguais (muitos niveis)"
   ]
  },
  {
   "cell_type": "code",
   "execution_count": null,
   "metadata": {
    "execution": {
     "iopub.execute_input": "2021-08-28T21:11:45.048291Z",
     "iopub.status.busy": "2021-08-28T21:11:45.047892Z",
     "iopub.status.idle": "2021-08-28T21:11:45.128685Z",
     "shell.execute_reply": "2021-08-28T21:11:45.127842Z",
     "shell.execute_reply.started": "2021-08-28T21:11:45.048257Z"
    }
   },
   "outputs": [],
   "source": [
    "train[feat_type_dict['quali_nom']].sample(10)"
   ]
  },
  {
   "cell_type": "code",
   "execution_count": null,
   "metadata": {
    "execution": {
     "iopub.execute_input": "2021-08-28T21:12:21.946364Z",
     "iopub.status.busy": "2021-08-28T21:12:21.945976Z",
     "iopub.status.idle": "2021-08-28T21:12:21.961176Z",
     "shell.execute_reply": "2021-08-28T21:12:21.960097Z",
     "shell.execute_reply.started": "2021-08-28T21:12:21.946328Z"
    }
   },
   "outputs": [],
   "source": [
    "train[feat_type_dict['quali_nom']].isnull().mean().sort_values(ascending=False)"
   ]
  },
  {
   "cell_type": "code",
   "execution_count": null,
   "metadata": {
    "execution": {
     "iopub.execute_input": "2021-08-28T21:12:38.154696Z",
     "iopub.status.busy": "2021-08-28T21:12:38.154229Z",
     "iopub.status.idle": "2021-08-28T21:12:38.184378Z",
     "shell.execute_reply": "2021-08-28T21:12:38.183382Z",
     "shell.execute_reply.started": "2021-08-28T21:12:38.154665Z"
    }
   },
   "outputs": [],
   "source": [
    "train[feat_type_dict['quali_nom']].nunique()"
   ]
  },
  {
   "cell_type": "code",
   "execution_count": null,
   "metadata": {
    "execution": {
     "iopub.execute_input": "2021-08-28T21:11:57.260321Z",
     "iopub.status.busy": "2021-08-28T21:11:57.259963Z",
     "iopub.status.idle": "2021-08-28T21:11:57.293597Z",
     "shell.execute_reply": "2021-08-28T21:11:57.292202Z",
     "shell.execute_reply.started": "2021-08-28T21:11:57.260289Z"
    }
   },
   "outputs": [],
   "source": [
    "train[feat_type_dict['quali_nom']].nunique()"
   ]
  },
  {
   "cell_type": "code",
   "execution_count": null,
   "metadata": {
    "execution": {
     "iopub.execute_input": "2021-08-28T21:22:36.387302Z",
     "iopub.status.busy": "2021-08-28T21:22:36.3869Z",
     "iopub.status.idle": "2021-08-28T21:22:48.42894Z",
     "shell.execute_reply": "2021-08-28T21:22:48.427837Z",
     "shell.execute_reply.started": "2021-08-28T21:22:36.387271Z"
    }
   },
   "outputs": [],
   "source": [
    "for col in feat_type_dict['quali_nom']:\n",
    "    sns.histplot(data=train, x=col, hue='y')\n",
    "    plt.title(col)\n",
    "    plt.show()"
   ]
  },
  {
   "cell_type": "code",
   "execution_count": null,
   "metadata": {
    "execution": {
     "iopub.execute_input": "2021-08-28T21:28:33.088187Z",
     "iopub.status.busy": "2021-08-28T21:28:33.087751Z",
     "iopub.status.idle": "2021-08-28T21:28:33.342511Z",
     "shell.execute_reply": "2021-08-28T21:28:33.341449Z",
     "shell.execute_reply.started": "2021-08-28T21:28:33.08815Z"
    }
   },
   "outputs": [],
   "source": [
    "pd.concat([\n",
    "    train[feat_type_dict['quali_nom']].describe(),\n",
    "    test[feat_type_dict['quali_nom']].describe()\n",
    "], axis=0, keys=['train', 'test'])"
   ]
  },
  {
   "cell_type": "code",
   "execution_count": null,
   "metadata": {
    "execution": {
     "iopub.execute_input": "2021-08-28T21:46:25.164395Z",
     "iopub.status.busy": "2021-08-28T21:46:25.164018Z",
     "iopub.status.idle": "2021-08-28T21:46:25.285261Z",
     "shell.execute_reply": "2021-08-28T21:46:25.284017Z",
     "shell.execute_reply.started": "2021-08-28T21:46:25.164363Z"
    }
   },
   "outputs": [],
   "source": [
    "train[feat_type_dict['quali_nom']].corrwith(train['y'], method='spearman').sort_values(ascending=False)"
   ]
  },
  {
   "cell_type": "markdown",
   "metadata": {},
   "source": [
    "## Quali ord"
   ]
  },
  {
   "cell_type": "code",
   "execution_count": null,
   "metadata": {
    "execution": {
     "iopub.execute_input": "2021-08-28T21:59:49.804656Z",
     "iopub.status.busy": "2021-08-28T21:59:49.804177Z",
     "iopub.status.idle": "2021-08-28T21:59:49.824673Z",
     "shell.execute_reply": "2021-08-28T21:59:49.823792Z",
     "shell.execute_reply.started": "2021-08-28T21:59:49.804606Z"
    }
   },
   "outputs": [],
   "source": [
    "train[feat_type_dict['quali_ord']].sample(10)"
   ]
  },
  {
   "cell_type": "code",
   "execution_count": null,
   "metadata": {
    "execution": {
     "iopub.execute_input": "2021-08-28T22:00:15.099036Z",
     "iopub.status.busy": "2021-08-28T22:00:15.098569Z",
     "iopub.status.idle": "2021-08-28T22:00:15.110988Z",
     "shell.execute_reply": "2021-08-28T22:00:15.10953Z",
     "shell.execute_reply.started": "2021-08-28T22:00:15.099001Z"
    }
   },
   "outputs": [],
   "source": [
    "train[feat_type_dict['quali_ord']].isnull().mean()"
   ]
  },
  {
   "cell_type": "code",
   "execution_count": null,
   "metadata": {
    "execution": {
     "iopub.execute_input": "2021-08-28T22:00:24.710307Z",
     "iopub.status.busy": "2021-08-28T22:00:24.709744Z",
     "iopub.status.idle": "2021-08-28T22:00:24.723438Z",
     "shell.execute_reply": "2021-08-28T22:00:24.722337Z",
     "shell.execute_reply.started": "2021-08-28T22:00:24.710272Z"
    }
   },
   "outputs": [],
   "source": [
    "train[feat_type_dict['quali_ord']].nunique()"
   ]
  },
  {
   "cell_type": "code",
   "execution_count": null,
   "metadata": {
    "execution": {
     "iopub.execute_input": "2021-08-28T22:01:10.76854Z",
     "iopub.status.busy": "2021-08-28T22:01:10.767959Z",
     "iopub.status.idle": "2021-08-28T22:01:12.235995Z",
     "shell.execute_reply": "2021-08-28T22:01:12.234741Z",
     "shell.execute_reply.started": "2021-08-28T22:01:10.768505Z"
    }
   },
   "outputs": [],
   "source": [
    "for col in train[feat_type_dict['quali_ord']]:\n",
    "    sns.countplot(data=train, x= col, hue='y')\n",
    "    plt.title(col)\n",
    "    plt.show()"
   ]
  },
  {
   "cell_type": "code",
   "execution_count": null,
   "metadata": {
    "execution": {
     "iopub.execute_input": "2021-08-28T22:01:59.638933Z",
     "iopub.status.busy": "2021-08-28T22:01:59.638459Z",
     "iopub.status.idle": "2021-08-28T22:01:59.692739Z",
     "shell.execute_reply": "2021-08-28T22:01:59.69171Z",
     "shell.execute_reply.started": "2021-08-28T22:01:59.638862Z"
    }
   },
   "outputs": [],
   "source": [
    "pd.concat([\n",
    "    train[feat_type_dict['quali_ord']].describe(),\n",
    "    test[feat_type_dict['quali_ord']].describe()\n",
    "], axis=0, keys=['train', 'test'])"
   ]
  },
  {
   "cell_type": "code",
   "execution_count": null,
   "metadata": {
    "execution": {
     "iopub.execute_input": "2021-08-28T22:02:26.819584Z",
     "iopub.status.busy": "2021-08-28T22:02:26.819185Z",
     "iopub.status.idle": "2021-08-28T22:02:26.897139Z",
     "shell.execute_reply": "2021-08-28T22:02:26.896023Z",
     "shell.execute_reply.started": "2021-08-28T22:02:26.81955Z"
    }
   },
   "outputs": [],
   "source": [
    "train[feat_type_dict['quali_ord']].corrwith(train['y'], method=cramers_v).sort_values(ascending=False)"
   ]
  }
 ],
 "metadata": {
  "kernelspec": {
   "display_name": "Python 3",
   "language": "python",
   "name": "python3"
  },
  "language_info": {
   "codemirror_mode": {
    "name": "ipython",
    "version": 3
   },
   "file_extension": ".py",
   "mimetype": "text/x-python",
   "name": "python",
   "nbconvert_exporter": "python",
   "pygments_lexer": "ipython3",
   "version": "3.8.8"
  }
 },
 "nbformat": 4,
 "nbformat_minor": 4
}
