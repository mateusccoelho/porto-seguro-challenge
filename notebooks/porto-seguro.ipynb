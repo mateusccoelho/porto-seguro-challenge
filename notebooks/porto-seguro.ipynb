{
 "cells": [
  {
   "cell_type": "markdown",
   "metadata": {},
   "source": [
    "# Porto Seguro"
   ]
  },
  {
   "cell_type": "markdown",
   "metadata": {},
   "source": [
    "Local CV\n",
    "\n",
    "1. LGBM simples, todas as variáveis, sem otimização, np.nan: 0.6395581804921483\n",
    "2. LGBM simples, todas as variáveis, setando is_unbalance, np.nan: 0.6594159675776389\n",
    "3. LGBM simples, todas as variáveis, setando is_unbalance, nulos como -999: 0.6608989474619081"
   ]
  },
  {
   "cell_type": "code",
   "execution_count": 2,
   "metadata": {
    "_cell_guid": "b1076dfc-b9ad-4769-8c92-a6c4dae69d19",
    "_uuid": "8f2839f25d086af736a60e9eeb907d3b93b6e0e5",
    "execution": {
     "iopub.execute_input": "2021-08-29T17:35:50.141738Z",
     "iopub.status.busy": "2021-08-29T17:35:50.141316Z",
     "iopub.status.idle": "2021-08-29T17:36:00.824557Z",
     "shell.execute_reply": "2021-08-29T17:36:00.823435Z",
     "shell.execute_reply.started": "2021-08-29T17:35:50.141646Z"
    }
   },
   "outputs": [],
   "source": [
    "# Libs to deal with tabular data\n",
    "import numpy as np\n",
    "import pandas as pd\n",
    "pd.options.mode.chained_assignment = None\n",
    "pd.set_option('display.max_columns', None)\n",
    "pd.set_option('display.max_rows', 2000)\n",
    "\n",
    "# Statistics\n",
    "from scipy.stats import chi2_contingency\n",
    "from scipy.stats.contingency import expected_freq\n",
    "\n",
    "# Plotting packages\n",
    "import seaborn as sns\n",
    "sns.axes_style(\"darkgrid\")\n",
    "%matplotlib inline\n",
    "import matplotlib.pyplot as plt\n",
    "plt.style.use('seaborn')\n",
    "\n",
    "# Machine Learning\n",
    "from xverse.transformer import WOE\n",
    "from sklearn import preprocessing\n",
    "from sklearn.model_selection import train_test_split, StratifiedKFold, GridSearchCV\n",
    "from sklearn.inspection import permutation_importance\n",
    "from sklearn.feature_selection import mutual_info_classif\n",
    "from sklearn.metrics import recall_score, f1_score\n",
    "from boruta import BorutaPy\n",
    "from imblearn.under_sampling import RandomUnderSampler\n",
    "from lightgbm import LGBMClassifier\n",
    "\n",
    "# Optimization\n",
    "import optuna\n",
    "from optuna.samplers import TPESampler\n",
    "from optuna.visualization import plot_contour, plot_optimization_history\n",
    "from optuna.visualization import plot_param_importances, plot_slice\n",
    "\n",
    "# To display stuff in notebook\n",
    "from IPython.display import display, Markdown\n",
    "\n",
    "# Misc \n",
    "from joblib import Parallel, delayed\n",
    "from tqdm.notebook import tqdm\n",
    "import time\n",
    "import os\n",
    "import glob\n"
   ]
  },
  {
   "cell_type": "code",
   "execution_count": 3,
   "metadata": {
    "execution": {
     "iopub.execute_input": "2021-08-29T17:36:00.826714Z",
     "iopub.status.busy": "2021-08-29T17:36:00.826431Z",
     "iopub.status.idle": "2021-08-29T17:36:00.832445Z",
     "shell.execute_reply": "2021-08-29T17:36:00.831422Z",
     "shell.execute_reply.started": "2021-08-29T17:36:00.826683Z"
    }
   },
   "outputs": [],
   "source": [
    "def cramers_v(var1, var2):\n",
    "    cont_freq = pd.crosstab(var1, var2).values\n",
    "    n_obs = cont_freq.sum().sum()\n",
    "    chi2_test = chi2_contingency(cont_freq)\n",
    "    cramers_v = np.sqrt(chi2_test[0] / (n_obs * (min(cont_freq.shape) - 1)))\n",
    "    return cramers_v"
   ]
  },
  {
   "cell_type": "code",
   "execution_count": 4,
   "metadata": {
    "execution": {
     "iopub.execute_input": "2021-08-29T17:36:00.834620Z",
     "iopub.status.busy": "2021-08-29T17:36:00.834356Z",
     "iopub.status.idle": "2021-08-29T17:36:01.249007Z",
     "shell.execute_reply": "2021-08-29T17:36:01.247968Z",
     "shell.execute_reply.started": "2021-08-29T17:36:00.834595Z"
    }
   },
   "outputs": [],
   "source": [
    "train = pd.read_csv('../data/raw/train.csv')\n",
    "test = pd.read_csv('../data/raw/test.csv')\n",
    "feats = pd.read_csv('../data/raw/metadata.csv')"
   ]
  },
  {
   "cell_type": "code",
   "execution_count": 5,
   "metadata": {
    "execution": {
     "iopub.execute_input": "2021-08-29T17:36:01.250681Z",
     "iopub.status.busy": "2021-08-29T17:36:01.250423Z",
     "iopub.status.idle": "2021-08-29T17:36:01.279283Z",
     "shell.execute_reply": "2021-08-29T17:36:01.278231Z",
     "shell.execute_reply.started": "2021-08-29T17:36:01.250655Z"
    }
   },
   "outputs": [
    {
     "data": {
      "text/plain": [
       "{'quali_nom': array(['var1', 'var2', 'var3', 'var4', 'var5', 'var6', 'var7', 'var8',\n",
       "        'var9', 'var10', 'var11', 'var12', 'var13', 'var14', 'var15',\n",
       "        'var16', 'var17', 'var18', 'var19', 'var20', 'var21', 'var22',\n",
       "        'var23', 'var28', 'var29', 'var30', 'var31', 'var33', 'var34',\n",
       "        'var35', 'var36', 'var37', 'var38', 'var39', 'var41'], dtype=object),\n",
       " 'quali_ord': array(['var26', 'var32', 'var42', 'var43'], dtype=object),\n",
       " 'quanti_cont': array(['var55', 'var56', 'var57', 'var58', 'var59', 'var60', 'var61',\n",
       "        'var62', 'var63', 'var64', 'var65', 'var66'], dtype=object),\n",
       " 'quanti_dis': array(['var24', 'var25', 'var27', 'var40', 'var44', 'var45', 'var46',\n",
       "        'var47', 'var48', 'var49', 'var50', 'var51', 'var52', 'var53',\n",
       "        'var54', 'var67', 'var68'], dtype=object)}"
      ]
     },
     "execution_count": 5,
     "metadata": {},
     "output_type": "execute_result"
    }
   ],
   "source": [
    "feats = feats[~feats['Variavel cod'].isin(['id', 'y'])]\n",
    "feats['Variavel tipo'] = feats['Variavel tipo'].replace({\n",
    "    'Qualitativo nominal': 'quali_nom',\n",
    "    'Quantitativo discreto': 'quanti_dis',\n",
    "    'Quantitativo continua': 'quanti_cont',\n",
    "    'Qualitativo ordinal': 'quali_ord'\n",
    "})\n",
    "feat_type_dict = feats.groupby('Variavel tipo')['Variavel cod'].unique().to_dict()\n",
    "feat_type_dict"
   ]
  },
  {
   "cell_type": "code",
   "execution_count": 6,
   "metadata": {
    "execution": {
     "iopub.execute_input": "2021-08-29T17:36:01.280683Z",
     "iopub.status.busy": "2021-08-29T17:36:01.280428Z",
     "iopub.status.idle": "2021-08-29T17:36:01.288088Z",
     "shell.execute_reply": "2021-08-29T17:36:01.287193Z",
     "shell.execute_reply.started": "2021-08-29T17:36:01.280658Z"
    }
   },
   "outputs": [
    {
     "data": {
      "text/plain": [
       "(14123, 70)"
      ]
     },
     "metadata": {},
     "output_type": "display_data"
    },
    {
     "data": {
      "text/plain": [
       "(21183, 69)"
      ]
     },
     "metadata": {},
     "output_type": "display_data"
    }
   ],
   "source": [
    "display(train.shape)\n",
    "display(test.shape)"
   ]
  },
  {
   "cell_type": "markdown",
   "metadata": {},
   "source": [
    "# Análise\n",
    "\n",
    "- 68 variáveis \n",
    "- train 14123 linhas \n",
    "- test 21183 linhas\n",
    "- 20% eventos\n",
    "- Mesma quantidade de missing: (65,66), (26,58), (9,52), (15,16,17,18), (2,3)"
   ]
  },
  {
   "cell_type": "code",
   "execution_count": null,
   "metadata": {
    "execution": {
     "iopub.execute_input": "2021-08-29T12:55:28.868868Z",
     "iopub.status.busy": "2021-08-29T12:55:28.868239Z",
     "iopub.status.idle": "2021-08-29T12:55:28.956431Z",
     "shell.execute_reply": "2021-08-29T12:55:28.955331Z",
     "shell.execute_reply.started": "2021-08-29T12:55:28.868828Z"
    },
    "scrolled": true
   },
   "outputs": [],
   "source": [
    "train = train.replace({-999:np.nan})\n",
    "test = test.replace({-999:np.nan})\n",
    "\n",
    "nulos = pd.concat([train.isnull().mean(), test.isnull().mean()], axis=1, keys=['train', 'test'])\n",
    "nulos['diff'] = (nulos['train'] - nulos['test']).abs()\n",
    "nulos.sort_values('train', ascending=False)\n",
    "#nulos.sort_values('diff', ascending=False)"
   ]
  },
  {
   "cell_type": "markdown",
   "metadata": {},
   "source": [
    "## Quanti cont\n",
    "\n",
    "- Algumas bem correlacionadas entre si, tanto positivo quanto negativo\n",
    "- 8 tem nulos, 2 com a mesma quantidade de nulos\n",
    "- vars não padronizadas, escaladas entre 0 e 1\n",
    "- tem mesma média e desvio padrão no teste"
   ]
  },
  {
   "cell_type": "code",
   "execution_count": null,
   "metadata": {
    "execution": {
     "iopub.execute_input": "2021-08-28T21:06:19.366639Z",
     "iopub.status.busy": "2021-08-28T21:06:19.366247Z",
     "iopub.status.idle": "2021-08-28T21:06:19.394454Z",
     "shell.execute_reply": "2021-08-28T21:06:19.393315Z",
     "shell.execute_reply.started": "2021-08-28T21:06:19.366608Z"
    }
   },
   "outputs": [],
   "source": [
    "train[feat_type_dict['quanti_cont']].sample(10)"
   ]
  },
  {
   "cell_type": "code",
   "execution_count": null,
   "metadata": {
    "execution": {
     "iopub.execute_input": "2021-08-28T21:06:25.392682Z",
     "iopub.status.busy": "2021-08-28T21:06:25.392278Z",
     "iopub.status.idle": "2021-08-28T21:06:43.661409Z",
     "shell.execute_reply": "2021-08-28T21:06:43.660364Z",
     "shell.execute_reply.started": "2021-08-28T21:06:25.392649Z"
    }
   },
   "outputs": [],
   "source": [
    "for col in feat_type_dict['quanti_cont']:\n",
    "    sns.histplot(data=train, x=col, hue='y')\n",
    "    plt.title(col)\n",
    "    plt.show()"
   ]
  },
  {
   "cell_type": "code",
   "execution_count": null,
   "metadata": {
    "execution": {
     "iopub.execute_input": "2021-08-28T21:06:43.663113Z",
     "iopub.status.busy": "2021-08-28T21:06:43.66281Z",
     "iopub.status.idle": "2021-08-28T21:06:43.685057Z",
     "shell.execute_reply": "2021-08-28T21:06:43.684166Z",
     "shell.execute_reply.started": "2021-08-28T21:06:43.663085Z"
    }
   },
   "outputs": [],
   "source": [
    "train[feat_type_dict['quanti_cont']].nunique()"
   ]
  },
  {
   "cell_type": "code",
   "execution_count": null,
   "metadata": {
    "execution": {
     "iopub.execute_input": "2021-08-28T21:07:00.829341Z",
     "iopub.status.busy": "2021-08-28T21:07:00.828922Z",
     "iopub.status.idle": "2021-08-28T21:07:00.842233Z",
     "shell.execute_reply": "2021-08-28T21:07:00.840759Z",
     "shell.execute_reply.started": "2021-08-28T21:07:00.829309Z"
    }
   },
   "outputs": [],
   "source": [
    "train[feat_type_dict['quanti_cont']].isnull().mean()"
   ]
  },
  {
   "cell_type": "code",
   "execution_count": null,
   "metadata": {
    "execution": {
     "iopub.execute_input": "2021-08-28T21:07:01.078558Z",
     "iopub.status.busy": "2021-08-28T21:07:01.078202Z",
     "iopub.status.idle": "2021-08-28T21:07:01.471215Z",
     "shell.execute_reply": "2021-08-28T21:07:01.470284Z",
     "shell.execute_reply.started": "2021-08-28T21:07:01.078523Z"
    }
   },
   "outputs": [],
   "source": [
    "sns.heatmap(train[feat_type_dict['quanti_cont']].corr())"
   ]
  },
  {
   "cell_type": "code",
   "execution_count": null,
   "metadata": {
    "execution": {
     "iopub.execute_input": "2021-08-28T21:07:05.910757Z",
     "iopub.status.busy": "2021-08-28T21:07:05.910345Z",
     "iopub.status.idle": "2021-08-28T21:07:06.010839Z",
     "shell.execute_reply": "2021-08-28T21:07:06.009792Z",
     "shell.execute_reply.started": "2021-08-28T21:07:05.910718Z"
    }
   },
   "outputs": [],
   "source": [
    "pd.concat([\n",
    "    train[feat_type_dict['quanti_cont']].describe(),\n",
    "    test[feat_type_dict['quanti_cont']].describe()\n",
    "], axis=0, keys=['train', 'test'])"
   ]
  },
  {
   "cell_type": "code",
   "execution_count": null,
   "metadata": {
    "execution": {
     "iopub.execute_input": "2021-08-28T21:07:08.672888Z",
     "iopub.status.busy": "2021-08-28T21:07:08.67247Z",
     "iopub.status.idle": "2021-08-28T21:07:08.724138Z",
     "shell.execute_reply": "2021-08-28T21:07:08.723237Z",
     "shell.execute_reply.started": "2021-08-28T21:07:08.672836Z"
    }
   },
   "outputs": [],
   "source": [
    "train[feat_type_dict['quanti_cont']].corrwith(train['y'], method='spearman').sort_values()"
   ]
  },
  {
   "cell_type": "markdown",
   "metadata": {},
   "source": [
    "## Quanti dis\n",
    "\n",
    "- 15 sao discretas, 2 parecem continuas\n",
    "- mesmas distribuicoes no teste\n",
    "- o teste tem alguns valores maximos que não estão no treino"
   ]
  },
  {
   "cell_type": "code",
   "execution_count": null,
   "metadata": {
    "execution": {
     "iopub.execute_input": "2021-08-28T21:05:02.541444Z",
     "iopub.status.busy": "2021-08-28T21:05:02.541008Z",
     "iopub.status.idle": "2021-08-28T21:05:02.583448Z",
     "shell.execute_reply": "2021-08-28T21:05:02.582535Z",
     "shell.execute_reply.started": "2021-08-28T21:05:02.541407Z"
    }
   },
   "outputs": [],
   "source": [
    "train[feat_type_dict['quanti_dis']].sample(10)"
   ]
  },
  {
   "cell_type": "code",
   "execution_count": null,
   "metadata": {
    "execution": {
     "iopub.execute_input": "2021-08-28T21:04:54.767252Z",
     "iopub.status.busy": "2021-08-28T21:04:54.766927Z",
     "iopub.status.idle": "2021-08-28T21:04:54.778457Z",
     "shell.execute_reply": "2021-08-28T21:04:54.777503Z",
     "shell.execute_reply.started": "2021-08-28T21:04:54.767223Z"
    }
   },
   "outputs": [],
   "source": [
    "train[feat_type_dict['quanti_dis']].isnull().mean()"
   ]
  },
  {
   "cell_type": "code",
   "execution_count": null,
   "metadata": {
    "execution": {
     "iopub.execute_input": "2021-08-28T21:07:17.349358Z",
     "iopub.status.busy": "2021-08-28T21:07:17.348749Z",
     "iopub.status.idle": "2021-08-28T21:07:17.369756Z",
     "shell.execute_reply": "2021-08-28T21:07:17.368987Z",
     "shell.execute_reply.started": "2021-08-28T21:07:17.34932Z"
    }
   },
   "outputs": [],
   "source": [
    "train[feat_type_dict['quanti_dis']].nunique()"
   ]
  },
  {
   "cell_type": "code",
   "execution_count": null,
   "metadata": {
    "execution": {
     "iopub.execute_input": "2021-08-28T21:04:25.229437Z",
     "iopub.status.busy": "2021-08-28T21:04:25.229045Z",
     "iopub.status.idle": "2021-08-28T21:04:33.075181Z",
     "shell.execute_reply": "2021-08-28T21:04:33.074201Z",
     "shell.execute_reply.started": "2021-08-28T21:04:25.229404Z"
    }
   },
   "outputs": [],
   "source": [
    "for col in train[feat_type_dict['quanti_dis']]:\n",
    "    sns.countplot(data=train, x= col, hue='y')\n",
    "    plt.title(col)\n",
    "    plt.show()"
   ]
  },
  {
   "cell_type": "code",
   "execution_count": null,
   "metadata": {
    "execution": {
     "iopub.execute_input": "2021-08-28T21:08:00.376779Z",
     "iopub.status.busy": "2021-08-28T21:08:00.376222Z",
     "iopub.status.idle": "2021-08-28T21:08:00.501419Z",
     "shell.execute_reply": "2021-08-28T21:08:00.500717Z",
     "shell.execute_reply.started": "2021-08-28T21:08:00.376746Z"
    }
   },
   "outputs": [],
   "source": [
    "pd.concat([\n",
    "    train[feat_type_dict['quanti_dis']].describe(),\n",
    "    test[feat_type_dict['quanti_dis']].describe()\n",
    "], axis=0, keys=['train', 'test'])"
   ]
  },
  {
   "cell_type": "code",
   "execution_count": null,
   "metadata": {
    "execution": {
     "iopub.execute_input": "2021-08-28T21:47:10.248456Z",
     "iopub.status.busy": "2021-08-28T21:47:10.247783Z",
     "iopub.status.idle": "2021-08-28T21:47:10.589359Z",
     "shell.execute_reply": "2021-08-28T21:47:10.588081Z",
     "shell.execute_reply.started": "2021-08-28T21:47:10.248406Z"
    }
   },
   "outputs": [],
   "source": [
    "train[feat_type_dict['quanti_dis']].corrwith(train['y'], method=cramers_v).sort_values(ascending=False)"
   ]
  },
  {
   "cell_type": "markdown",
   "metadata": {},
   "source": [
    "## Quali nom\n",
    "\n",
    "- treino e test similares\n",
    "- algumas variaveis nao parecem qualitativas nominais.\n",
    "- a % de missing maximo eh de 15%\n",
    "- a maioria das variaveis tem muitas categorias\n",
    "- 2 variaveis tem pouquissimos valores iguais (muitos niveis)"
   ]
  },
  {
   "cell_type": "code",
   "execution_count": null,
   "metadata": {
    "execution": {
     "iopub.execute_input": "2021-08-28T21:11:45.048291Z",
     "iopub.status.busy": "2021-08-28T21:11:45.047892Z",
     "iopub.status.idle": "2021-08-28T21:11:45.128685Z",
     "shell.execute_reply": "2021-08-28T21:11:45.127842Z",
     "shell.execute_reply.started": "2021-08-28T21:11:45.048257Z"
    }
   },
   "outputs": [],
   "source": [
    "train[feat_type_dict['quali_nom']].sample(10)"
   ]
  },
  {
   "cell_type": "code",
   "execution_count": null,
   "metadata": {
    "execution": {
     "iopub.execute_input": "2021-08-28T21:12:21.946364Z",
     "iopub.status.busy": "2021-08-28T21:12:21.945976Z",
     "iopub.status.idle": "2021-08-28T21:12:21.961176Z",
     "shell.execute_reply": "2021-08-28T21:12:21.960097Z",
     "shell.execute_reply.started": "2021-08-28T21:12:21.946328Z"
    }
   },
   "outputs": [],
   "source": [
    "train[feat_type_dict['quali_nom']].isnull().mean().sort_values(ascending=False)"
   ]
  },
  {
   "cell_type": "code",
   "execution_count": null,
   "metadata": {
    "execution": {
     "iopub.execute_input": "2021-08-28T21:12:38.154696Z",
     "iopub.status.busy": "2021-08-28T21:12:38.154229Z",
     "iopub.status.idle": "2021-08-28T21:12:38.184378Z",
     "shell.execute_reply": "2021-08-28T21:12:38.183382Z",
     "shell.execute_reply.started": "2021-08-28T21:12:38.154665Z"
    }
   },
   "outputs": [],
   "source": [
    "train[feat_type_dict['quali_nom']].nunique()"
   ]
  },
  {
   "cell_type": "code",
   "execution_count": null,
   "metadata": {
    "execution": {
     "iopub.execute_input": "2021-08-28T21:11:57.260321Z",
     "iopub.status.busy": "2021-08-28T21:11:57.259963Z",
     "iopub.status.idle": "2021-08-28T21:11:57.293597Z",
     "shell.execute_reply": "2021-08-28T21:11:57.292202Z",
     "shell.execute_reply.started": "2021-08-28T21:11:57.260289Z"
    }
   },
   "outputs": [],
   "source": [
    "train[feat_type_dict['quali_nom']].nunique()"
   ]
  },
  {
   "cell_type": "code",
   "execution_count": null,
   "metadata": {
    "execution": {
     "iopub.execute_input": "2021-08-28T21:22:36.387302Z",
     "iopub.status.busy": "2021-08-28T21:22:36.3869Z",
     "iopub.status.idle": "2021-08-28T21:22:48.42894Z",
     "shell.execute_reply": "2021-08-28T21:22:48.427837Z",
     "shell.execute_reply.started": "2021-08-28T21:22:36.387271Z"
    }
   },
   "outputs": [],
   "source": [
    "for col in feat_type_dict['quali_nom']:\n",
    "    sns.histplot(data=train, x=col, hue='y')\n",
    "    plt.title(col)\n",
    "    plt.show()"
   ]
  },
  {
   "cell_type": "code",
   "execution_count": null,
   "metadata": {
    "execution": {
     "iopub.execute_input": "2021-08-28T21:28:33.088187Z",
     "iopub.status.busy": "2021-08-28T21:28:33.087751Z",
     "iopub.status.idle": "2021-08-28T21:28:33.342511Z",
     "shell.execute_reply": "2021-08-28T21:28:33.341449Z",
     "shell.execute_reply.started": "2021-08-28T21:28:33.08815Z"
    }
   },
   "outputs": [],
   "source": [
    "pd.concat([\n",
    "    train[feat_type_dict['quali_nom']].describe(),\n",
    "    test[feat_type_dict['quali_nom']].describe()\n",
    "], axis=0, keys=['train', 'test'])"
   ]
  },
  {
   "cell_type": "code",
   "execution_count": null,
   "metadata": {
    "execution": {
     "iopub.execute_input": "2021-08-28T21:46:25.164395Z",
     "iopub.status.busy": "2021-08-28T21:46:25.164018Z",
     "iopub.status.idle": "2021-08-28T21:46:25.285261Z",
     "shell.execute_reply": "2021-08-28T21:46:25.284017Z",
     "shell.execute_reply.started": "2021-08-28T21:46:25.164363Z"
    }
   },
   "outputs": [],
   "source": [
    "train[feat_type_dict['quali_nom']].corrwith(train['y'], method='spearman').sort_values(ascending=False)"
   ]
  },
  {
   "cell_type": "markdown",
   "metadata": {},
   "source": [
    "## Quali ord"
   ]
  },
  {
   "cell_type": "code",
   "execution_count": null,
   "metadata": {
    "execution": {
     "iopub.execute_input": "2021-08-28T21:59:49.804656Z",
     "iopub.status.busy": "2021-08-28T21:59:49.804177Z",
     "iopub.status.idle": "2021-08-28T21:59:49.824673Z",
     "shell.execute_reply": "2021-08-28T21:59:49.823792Z",
     "shell.execute_reply.started": "2021-08-28T21:59:49.804606Z"
    }
   },
   "outputs": [],
   "source": [
    "train[feat_type_dict['quali_ord']].sample(10)"
   ]
  },
  {
   "cell_type": "code",
   "execution_count": null,
   "metadata": {
    "execution": {
     "iopub.execute_input": "2021-08-28T22:00:15.099036Z",
     "iopub.status.busy": "2021-08-28T22:00:15.098569Z",
     "iopub.status.idle": "2021-08-28T22:00:15.110988Z",
     "shell.execute_reply": "2021-08-28T22:00:15.10953Z",
     "shell.execute_reply.started": "2021-08-28T22:00:15.099001Z"
    }
   },
   "outputs": [],
   "source": [
    "train[feat_type_dict['quali_ord']].isnull().mean()"
   ]
  },
  {
   "cell_type": "code",
   "execution_count": null,
   "metadata": {
    "execution": {
     "iopub.execute_input": "2021-08-28T22:00:24.710307Z",
     "iopub.status.busy": "2021-08-28T22:00:24.709744Z",
     "iopub.status.idle": "2021-08-28T22:00:24.723438Z",
     "shell.execute_reply": "2021-08-28T22:00:24.722337Z",
     "shell.execute_reply.started": "2021-08-28T22:00:24.710272Z"
    }
   },
   "outputs": [],
   "source": [
    "train[feat_type_dict['quali_ord']].nunique()"
   ]
  },
  {
   "cell_type": "code",
   "execution_count": null,
   "metadata": {
    "execution": {
     "iopub.execute_input": "2021-08-28T22:01:10.76854Z",
     "iopub.status.busy": "2021-08-28T22:01:10.767959Z",
     "iopub.status.idle": "2021-08-28T22:01:12.235995Z",
     "shell.execute_reply": "2021-08-28T22:01:12.234741Z",
     "shell.execute_reply.started": "2021-08-28T22:01:10.768505Z"
    }
   },
   "outputs": [],
   "source": [
    "for col in train[feat_type_dict['quali_ord']]:\n",
    "    sns.countplot(data=train, x= col, hue='y')\n",
    "    plt.title(col)\n",
    "    plt.show()"
   ]
  },
  {
   "cell_type": "code",
   "execution_count": null,
   "metadata": {
    "execution": {
     "iopub.execute_input": "2021-08-28T22:01:59.638933Z",
     "iopub.status.busy": "2021-08-28T22:01:59.638459Z",
     "iopub.status.idle": "2021-08-28T22:01:59.692739Z",
     "shell.execute_reply": "2021-08-28T22:01:59.69171Z",
     "shell.execute_reply.started": "2021-08-28T22:01:59.638862Z"
    }
   },
   "outputs": [],
   "source": [
    "pd.concat([\n",
    "    train[feat_type_dict['quali_ord']].describe(),\n",
    "    test[feat_type_dict['quali_ord']].describe()\n",
    "], axis=0, keys=['train', 'test'])"
   ]
  },
  {
   "cell_type": "code",
   "execution_count": null,
   "metadata": {
    "execution": {
     "iopub.execute_input": "2021-08-28T22:02:26.819584Z",
     "iopub.status.busy": "2021-08-28T22:02:26.819185Z",
     "iopub.status.idle": "2021-08-28T22:02:26.897139Z",
     "shell.execute_reply": "2021-08-28T22:02:26.896023Z",
     "shell.execute_reply.started": "2021-08-28T22:02:26.81955Z"
    }
   },
   "outputs": [],
   "source": [
    "train[feat_type_dict['quali_ord']].corrwith(train['y'], method=cramers_v).sort_values(ascending=False)"
   ]
  },
  {
   "cell_type": "markdown",
   "metadata": {},
   "source": [
    "# Feature selection"
   ]
  },
  {
   "cell_type": "code",
   "execution_count": 7,
   "metadata": {
    "execution": {
     "iopub.execute_input": "2021-08-29T17:36:01.289638Z",
     "iopub.status.busy": "2021-08-29T17:36:01.289313Z",
     "iopub.status.idle": "2021-08-29T17:36:01.302550Z",
     "shell.execute_reply": "2021-08-29T17:36:01.301508Z",
     "shell.execute_reply.started": "2021-08-29T17:36:01.289601Z"
    }
   },
   "outputs": [],
   "source": [
    "X_train = train.drop(columns=['id', 'y'])\n",
    "y_train = train['y']"
   ]
  },
  {
   "cell_type": "code",
   "execution_count": null,
   "metadata": {
    "collapsed": true,
    "execution": {
     "iopub.execute_input": "2021-08-28T22:07:29.244081Z",
     "iopub.status.busy": "2021-08-28T22:07:29.243412Z",
     "iopub.status.idle": "2021-08-28T22:07:35.858096Z",
     "shell.execute_reply": "2021-08-28T22:07:35.85686Z",
     "shell.execute_reply.started": "2021-08-28T22:07:29.244033Z"
    },
    "jupyter": {
     "outputs_hidden": true
    }
   },
   "outputs": [],
   "source": [
    "woe = WOE().fit(X_train, y_train)"
   ]
  },
  {
   "cell_type": "code",
   "execution_count": null,
   "metadata": {
    "execution": {
     "iopub.execute_input": "2021-08-28T22:30:36.457315Z",
     "iopub.status.busy": "2021-08-28T22:30:36.455523Z",
     "iopub.status.idle": "2021-08-28T22:30:36.481481Z",
     "shell.execute_reply": "2021-08-28T22:30:36.480546Z",
     "shell.execute_reply.started": "2021-08-28T22:30:36.457271Z"
    }
   },
   "outputs": [],
   "source": [
    "iv_importance = woe.iv_df.sort_values('Information_Value', ascending=False)['Variable_Name'].tolist()\n",
    "woe.iv_df"
   ]
  },
  {
   "cell_type": "code",
   "execution_count": null,
   "metadata": {
    "execution": {
     "iopub.execute_input": "2021-08-28T22:20:31.470436Z",
     "iopub.status.busy": "2021-08-28T22:20:31.469902Z",
     "iopub.status.idle": "2021-08-28T22:22:45.468889Z",
     "shell.execute_reply": "2021-08-28T22:22:45.468073Z",
     "shell.execute_reply.started": "2021-08-28T22:20:31.470403Z"
    }
   },
   "outputs": [],
   "source": [
    "val_scores = []\n",
    "for idx in tqdm(range(1, len(woe.iv_df)+1)):\n",
    "    X_train_red = X_train.loc[:, iv_importance[:idx]]\n",
    "    cv = StratifiedKFold(5, random_state = 42, shuffle=True)\n",
    "    cv_scores = []\n",
    "    for array_idxs in cv.split(X_train_red, y_train):\n",
    "        train_index, val_index = array_idxs[0], array_idxs[1]\n",
    "        X_train_kf, X_val = X_train_red.loc[train_index], X_train_red.loc[val_index]\n",
    "        y_train_kf, y_val = y_train.loc[train_index], y_train.loc[val_index]\n",
    "        clf = LGBMClassifier(random_state=42, n_jobs=-1).fit(X_train_kf, y_train_kf)\n",
    "        cv_scores.append(f1_score(y_val, clf.predict(X_val)))\n",
    "    val_scores.append(sum(cv_scores)/5)"
   ]
  },
  {
   "cell_type": "code",
   "execution_count": null,
   "metadata": {
    "execution": {
     "iopub.execute_input": "2021-08-28T22:24:07.983241Z",
     "iopub.status.busy": "2021-08-28T22:24:07.982817Z",
     "iopub.status.idle": "2021-08-28T22:24:08.168081Z",
     "shell.execute_reply": "2021-08-28T22:24:08.167009Z",
     "shell.execute_reply.started": "2021-08-28T22:24:07.983207Z"
    }
   },
   "outputs": [],
   "source": [
    "sns.lineplot(x = range(1, len(woe.iv_df)+1), y = val_scores)\n",
    "plt.show()"
   ]
  },
  {
   "cell_type": "markdown",
   "metadata": {},
   "source": [
    "# Hyperparameters optimization"
   ]
  },
  {
   "cell_type": "code",
   "execution_count": null,
   "metadata": {
    "execution": {
     "iopub.execute_input": "2021-08-28T22:28:27.234313Z",
     "iopub.status.busy": "2021-08-28T22:28:27.233915Z",
     "iopub.status.idle": "2021-08-28T22:28:27.249765Z",
     "shell.execute_reply": "2021-08-28T22:28:27.248844Z",
     "shell.execute_reply.started": "2021-08-28T22:28:27.234281Z"
    },
    "jupyter": {
     "source_hidden": true
    }
   },
   "outputs": [],
   "source": [
    "def lgbm_f1_score(y_true, y_pred):\n",
    "    y_pred = np.round(y_pred)\n",
    "    return 'f1', f1_score(y_true, y_pred), True\n",
    "\n",
    "def lgbm_recall_score(y_true, y_pred):\n",
    "    y_pred = np.round(y_pred)\n",
    "    return 'recall', recall_score(y_true, y_pred), True\n",
    "\n",
    "class Light_GBM_CV:\n",
    "    def __init__(self, X, y, folds=5, random_state=42):\n",
    "        self.X = X\n",
    "        self.y = y\n",
    "        self.folds = folds\n",
    "        self.random_state = random_state\n",
    "\n",
    "    def __call__(self, trial):\n",
    "        cv = StratifiedKFold(\n",
    "            self.folds, \n",
    "            random_state = self.random_state, \n",
    "            shuffle=True\n",
    "        )\n",
    "        \n",
    "        clf = LGBMClassifier(\n",
    "            boosting_type = 'gbdt',\n",
    "            objective = 'binary',\n",
    "            random_state = self.random_state,\n",
    "            num_leaves = trial.suggest_int('num_leaves', 2, 500),\n",
    "            max_depth = trial.suggest_int('max_depth', 2, 500),\n",
    "            learning_rate = trial.suggest_loguniform('learning_rate', 1e-5, 1.0),\n",
    "            min_child_samples = trial.suggest_int('min_child_samples', 5, 1000),\n",
    "            n_estimators = trial.suggest_int('n_estimators', 10, 1000),\n",
    "            lambda_l1 = trial.suggest_loguniform('lambda_l1', 1e-5, 1.0),\n",
    "            lambda_l2 = trial.suggest_loguniform('lambda_l2', 1e-5, 1.0),\n",
    "            max_bin = trial.suggest_int('max_bin', 10, 1000),\n",
    "            feature_fraction = trial.suggest_float('feature_fraction', 0.1, 1),\n",
    "            bagging_fraction = trial.suggest_float('bagging_fraction', 0.1, 1),\n",
    "            is_unbalance = trial.suggest_categorical('is_unbalance', [False, True])\n",
    "            #scale_pos_weight = trial.suggest_float('scale_pos_weight', 0.01, 1)\n",
    "        )\n",
    "        \n",
    "        cv_scores = []\n",
    "\n",
    "        for array_idxs in cv.split(self.X, self.y):\n",
    "            train_index, val_index = array_idxs[0], array_idxs[1]\n",
    "            X_train, X_val = self.X.loc[train_index], self.X.loc[val_index]\n",
    "            y_train, y_val = self.y.loc[train_index], self.y.loc[val_index]\n",
    "            \n",
    "            clf.fit(\n",
    "                X_train, y_train,\n",
    "                eval_set = [(X_val, y_val), (X_train, y_train)],\n",
    "                eval_metric = [lgbm_f1_score, lgbm_recall_score, 'auc'],\n",
    "                early_stopping_rounds = 10,\n",
    "                verbose = False,\n",
    "                categorical_feature = feat_type_dict['quali_nom'].tolist()\n",
    "            )\n",
    "            cv_scores.append(clf.best_score_['valid_0']['f1'])\n",
    "\n",
    "        return sum(cv_scores) / len(cv_scores)"
   ]
  },
  {
   "cell_type": "code",
   "execution_count": null,
   "metadata": {
    "execution": {
     "iopub.execute_input": "2021-08-29T13:10:04.800079Z",
     "iopub.status.busy": "2021-08-29T13:10:04.79944Z",
     "iopub.status.idle": "2021-08-29T13:10:04.839091Z",
     "shell.execute_reply": "2021-08-29T13:10:04.837946Z",
     "shell.execute_reply.started": "2021-08-29T13:10:04.800024Z"
    },
    "scrolled": true
   },
   "outputs": [],
   "source": [
    "%%time\n",
    "lgbm_cv = Light_GBM_CV(X_train, y_train)\n",
    "study = optuna.create_study(sampler=TPESampler(seed = 42), direction='maximize')\n",
    "study.optimize(lgbm_cv, n_trials=50)\n",
    "\n",
    "print('Best model')\n",
    "print('Mean validation F1: ', study.best_value, '\\n')\n",
    "study.best_params\n",
    "\n",
    "plot_optimization_history(study)"
   ]
  },
  {
   "cell_type": "code",
   "execution_count": null,
   "metadata": {
    "execution": {
     "iopub.execute_input": "2021-08-28T21:18:52.047175Z",
     "iopub.status.busy": "2021-08-28T21:18:52.046846Z",
     "iopub.status.idle": "2021-08-28T21:18:57.392723Z",
     "shell.execute_reply": "2021-08-28T21:18:57.391892Z",
     "shell.execute_reply.started": "2021-08-28T21:18:52.047147Z"
    },
    "jupyter": {
     "source_hidden": true
    },
    "scrolled": true
   },
   "outputs": [],
   "source": [
    "%%time\n",
    "\n",
    "models_list = []\n",
    "cv_scores = []\n",
    "\n",
    "kf = StratifiedKFold(n_splits=5, random_state=24, shuffle=True)\n",
    "for fold, (trn_idx, val_idx) in enumerate(kf.split(X_train, y_train)):\n",
    "    print(\"Fold :\", fold+1)\n",
    "    \n",
    "    # Dataset creation\n",
    "    X_train_kf, y_train_kf = X_train.loc[trn_idx], y_train[trn_idx]\n",
    "    X_valid, y_valid = X_train.loc[val_idx], y_train[val_idx]\n",
    "    \n",
    "    # Modelling\n",
    "    model = LGBMClassifier(\n",
    "        objective = \"binary\",\n",
    "        boosting_type = \"gbdt\",\n",
    "        importance_type = 'gain',\n",
    "        random_state = 42,\n",
    "        **study.best_params\n",
    "    )\n",
    "    \n",
    "    model.fit(\n",
    "        X_train_kf, y_train_kf,\n",
    "        eval_set = [(X_valid, y_valid), (X_train, y_train)],\n",
    "        eval_metric = [lgbm_f1_score, lgbm_recall_score, 'auc'],\n",
    "        early_stopping_rounds = 10,\n",
    "        verbose = 10,\n",
    "        categorical_feature = feat_type_dict['quali_nom'].tolist()\n",
    "    )\n",
    "    \n",
    "    # validation\n",
    "    f1_val = model.best_score_['valid_0']['f1']\n",
    "    print(f'Performance fold #{fold+1}: {f1_val}')\n",
    "\n",
    "    #keep scores and models\n",
    "    cv_scores.append(f1_val)\n",
    "    models_list.append(model)\n",
    "    print(\"*\" * 100)"
   ]
  },
  {
   "cell_type": "code",
   "execution_count": null,
   "metadata": {
    "execution": {
     "iopub.execute_input": "2021-08-28T21:18:57.398665Z",
     "iopub.status.busy": "2021-08-28T21:18:57.396722Z",
     "iopub.status.idle": "2021-08-28T21:18:57.407163Z",
     "shell.execute_reply": "2021-08-28T21:18:57.406341Z",
     "shell.execute_reply.started": "2021-08-28T21:18:57.398622Z"
    }
   },
   "outputs": [],
   "source": [
    "print(f'CV score:', pd.Series(cv_scores).mean())\n",
    "cv_scores"
   ]
  },
  {
   "cell_type": "code",
   "execution_count": null,
   "metadata": {
    "execution": {
     "iopub.execute_input": "2021-08-28T21:18:57.40842Z",
     "iopub.status.busy": "2021-08-28T21:18:57.408095Z",
     "iopub.status.idle": "2021-08-28T21:18:57.42434Z",
     "shell.execute_reply": "2021-08-28T21:18:57.423279Z",
     "shell.execute_reply.started": "2021-08-28T21:18:57.408393Z"
    }
   },
   "outputs": [],
   "source": [
    "raw_imp_vetors = [model.feature_importances_.reshape(1, -1) for model in models_list]\n",
    "raw_imp_matrix = np.concatenate(raw_imp_vetors, axis=0)\n",
    "norm_imp = raw_imp_matrix / raw_imp_matrix.sum(1).reshape(-1, 1)\n",
    "mean_imp = norm_imp.mean(0)\n",
    "imp_series = pd.Series(mean_imp, index=X_train.columns).sort_values(ascending=False)"
   ]
  },
  {
   "cell_type": "code",
   "execution_count": null,
   "metadata": {
    "execution": {
     "iopub.execute_input": "2021-08-28T21:18:57.426141Z",
     "iopub.status.busy": "2021-08-28T21:18:57.425814Z",
     "iopub.status.idle": "2021-08-28T21:18:57.440051Z",
     "shell.execute_reply": "2021-08-28T21:18:57.439022Z",
     "shell.execute_reply.started": "2021-08-28T21:18:57.426111Z"
    }
   },
   "outputs": [],
   "source": [
    "imp_series"
   ]
  },
  {
   "cell_type": "markdown",
   "metadata": {},
   "source": [
    "# Simple LGBM"
   ]
  },
  {
   "cell_type": "code",
   "execution_count": 8,
   "metadata": {
    "execution": {
     "iopub.execute_input": "2021-08-29T12:58:29.830181Z",
     "iopub.status.busy": "2021-08-29T12:58:29.829723Z",
     "iopub.status.idle": "2021-08-29T12:58:33.312088Z",
     "shell.execute_reply": "2021-08-29T12:58:33.310689Z",
     "shell.execute_reply.started": "2021-08-29T12:58:29.830137Z"
    }
   },
   "outputs": [
    {
     "data": {
      "application/vnd.jupyter.widget-view+json": {
       "model_id": "83f0ca8fa1694de9a7d6697dd8adb4b6",
       "version_major": 2,
       "version_minor": 0
      },
      "text/plain": [
       "0it [00:00, ?it/s]"
      ]
     },
     "metadata": {},
     "output_type": "display_data"
    },
    {
     "data": {
      "text/plain": [
       "[0.6252983293556087,\n",
       " 0.6661143330571666,\n",
       " 0.6753670473083198,\n",
       " 0.6582278481012659,\n",
       " 0.6794871794871795]"
      ]
     },
     "metadata": {},
     "output_type": "display_data"
    },
    {
     "name": "stdout",
     "output_type": "stream",
     "text": [
      "0.6608989474619081\n"
     ]
    }
   ],
   "source": [
    "models_list = []\n",
    "cv_scores = []\n",
    "cv = StratifiedKFold(5, random_state = 42, shuffle=True)\n",
    "for array_idxs in tqdm(cv.split(X_train, y_train)):\n",
    "    train_index, val_index = array_idxs[0], array_idxs[1]\n",
    "    X_train_kf, X_val = X_train.loc[train_index], X_train.loc[val_index]\n",
    "    y_train_kf, y_val = y_train.loc[train_index], y_train.loc[val_index]\n",
    "    clf = LGBMClassifier(random_state=42, n_jobs=-1, importance_type='gain', is_unbalance=True).fit(X_train_kf, y_train_kf)\n",
    "    cv_scores.append(f1_score(y_val, clf.predict(X_val)))\n",
    "    models_list.append(clf)\n",
    "display(cv_scores)\n",
    "print(pd.Series(cv_scores).mean())"
   ]
  },
  {
   "cell_type": "code",
   "execution_count": null,
   "metadata": {
    "execution": {
     "iopub.execute_input": "2021-08-29T13:01:40.38814Z",
     "iopub.status.busy": "2021-08-29T13:01:40.387698Z",
     "iopub.status.idle": "2021-08-29T13:01:40.398222Z",
     "shell.execute_reply": "2021-08-29T13:01:40.397133Z",
     "shell.execute_reply.started": "2021-08-29T13:01:40.388101Z"
    }
   },
   "outputs": [],
   "source": [
    "raw_imp_vetors = [model.feature_importances_.reshape(1, -1) for model in models_list]\n",
    "raw_imp_matrix = np.concatenate(raw_imp_vetors, axis=0)\n",
    "norm_imp = raw_imp_matrix / raw_imp_matrix.sum(1).reshape(-1, 1)\n",
    "mean_imp = norm_imp.mean(0)\n",
    "imp_series = pd.Series(mean_imp, index=X_train.columns).sort_values(ascending=False)\n",
    "imp_series"
   ]
  },
  {
   "cell_type": "markdown",
   "metadata": {},
   "source": [
    "# Random undersampling"
   ]
  },
  {
   "cell_type": "code",
   "execution_count": 9,
   "metadata": {
    "execution": {
     "iopub.execute_input": "2021-08-29T17:53:59.268917Z",
     "iopub.status.busy": "2021-08-29T17:53:59.268572Z",
     "iopub.status.idle": "2021-08-29T17:56:02.505119Z",
     "shell.execute_reply": "2021-08-29T17:56:02.504193Z",
     "shell.execute_reply.started": "2021-08-29T17:53:59.268878Z"
    }
   },
   "outputs": [
    {
     "name": "stderr",
     "output_type": "stream",
     "text": [
      "\u001b[32m[I 2021-08-29 20:30:26,846]\u001b[0m A new study created in memory with name: no-name-98742bc5-c8c6-44c0-bb94-0a3a52122759\u001b[0m\n",
      "\u001b[32m[I 2021-08-29 20:30:28,016]\u001b[0m Trial 0 finished with value: 0.6588147055392923 and parameters: {'sampling_strategy': 0.5327814687789798, 'is_unbalance': False}. Best is trial 0 with value: 0.6588147055392923.\u001b[0m\n",
      "\u001b[32m[I 2021-08-29 20:30:29,026]\u001b[0m Trial 1 finished with value: 0.6510173190403088 and parameters: {'sampling_strategy': 0.7001978876951863, 'is_unbalance': False}. Best is trial 0 with value: 0.6588147055392923.\u001b[0m\n",
      "\u001b[32m[I 2021-08-29 20:30:30,237]\u001b[0m Trial 2 finished with value: 0.6469987836303699 and parameters: {'sampling_strategy': 0.296388458289645, 'is_unbalance': False}. Best is trial 0 with value: 0.6588147055392923.\u001b[0m\n",
      "\u001b[32m[I 2021-08-29 20:30:31,127]\u001b[0m Trial 3 finished with value: 0.6393078762395825 and parameters: {'sampling_strategy': 0.781930215613646, 'is_unbalance': True}. Best is trial 0 with value: 0.6588147055392923.\u001b[0m\n",
      "\u001b[32m[I 2021-08-29 20:30:32,069]\u001b[0m Trial 4 finished with value: 0.6398104435152693 and parameters: {'sampling_strategy': 0.874834652677915, 'is_unbalance': False}. Best is trial 0 with value: 0.6588147055392923.\u001b[0m\n",
      "\u001b[32m[I 2021-08-29 20:30:33,222]\u001b[0m Trial 5 finished with value: 0.6521055058558337 and parameters: {'sampling_strategy': 0.39000316886051506, 'is_unbalance': True}. Best is trial 0 with value: 0.6588147055392923.\u001b[0m\n",
      "\u001b[32m[I 2021-08-29 20:30:34,248]\u001b[0m Trial 6 finished with value: 0.6485768602501865 and parameters: {'sampling_strategy': 0.5756629289256605, 'is_unbalance': True}. Best is trial 0 with value: 0.6588147055392923.\u001b[0m\n",
      "\u001b[32m[I 2021-08-29 20:30:35,436]\u001b[0m Trial 7 finished with value: 0.6565468806843685 and parameters: {'sampling_strategy': 0.35720191390707523, 'is_unbalance': True}. Best is trial 0 with value: 0.6588147055392923.\u001b[0m\n",
      "\u001b[32m[I 2021-08-29 20:30:36,440]\u001b[0m Trial 8 finished with value: 0.6613269692444137 and parameters: {'sampling_strategy': 0.5936842782101258, 'is_unbalance': False}. Best is trial 8 with value: 0.6613269692444137.\u001b[0m\n",
      "\u001b[32m[I 2021-08-29 20:30:37,412]\u001b[0m Trial 9 finished with value: 0.6554828171615374 and parameters: {'sampling_strategy': 0.6371331254949679, 'is_unbalance': False}. Best is trial 8 with value: 0.6613269692444137.\u001b[0m\n",
      "\u001b[32m[I 2021-08-29 20:30:38,494]\u001b[0m Trial 10 finished with value: 0.6310308203018338 and parameters: {'sampling_strategy': 0.9590169985400987, 'is_unbalance': False}. Best is trial 8 with value: 0.6613269692444137.\u001b[0m\n",
      "\u001b[32m[I 2021-08-29 20:30:39,560]\u001b[0m Trial 11 finished with value: 0.659560649181677 and parameters: {'sampling_strategy': 0.5064654808497665, 'is_unbalance': False}. Best is trial 8 with value: 0.6613269692444137.\u001b[0m\n",
      "\u001b[32m[I 2021-08-29 20:30:40,567]\u001b[0m Trial 12 finished with value: 0.6584438254595256 and parameters: {'sampling_strategy': 0.4770462208516327, 'is_unbalance': False}. Best is trial 8 with value: 0.6613269692444137.\u001b[0m\n",
      "\u001b[32m[I 2021-08-29 20:30:41,576]\u001b[0m Trial 13 finished with value: 0.6599107638049324 and parameters: {'sampling_strategy': 0.4643393064464808, 'is_unbalance': False}. Best is trial 8 with value: 0.6613269692444137.\u001b[0m\n",
      "\u001b[32m[I 2021-08-29 20:30:42,565]\u001b[0m Trial 14 finished with value: 0.6501077327778678 and parameters: {'sampling_strategy': 0.7212820827452061, 'is_unbalance': False}. Best is trial 8 with value: 0.6613269692444137.\u001b[0m\n",
      "\u001b[32m[I 2021-08-29 20:30:43,630]\u001b[0m Trial 15 finished with value: 0.6617462312318463 and parameters: {'sampling_strategy': 0.462728432817059, 'is_unbalance': False}. Best is trial 15 with value: 0.6617462312318463.\u001b[0m\n",
      "\u001b[32m[I 2021-08-29 20:30:44,707]\u001b[0m Trial 16 finished with value: 0.6556369710026323 and parameters: {'sampling_strategy': 0.6067226032996608, 'is_unbalance': False}. Best is trial 15 with value: 0.6617462312318463.\u001b[0m\n",
      "\u001b[32m[I 2021-08-29 20:30:45,761]\u001b[0m Trial 17 finished with value: 0.6632726221373149 and parameters: {'sampling_strategy': 0.40194819829193784, 'is_unbalance': False}. Best is trial 17 with value: 0.6632726221373149.\u001b[0m\n",
      "\u001b[32m[I 2021-08-29 20:30:47,076]\u001b[0m Trial 18 finished with value: 0.6625374141297813 and parameters: {'sampling_strategy': 0.26628071871807846, 'is_unbalance': True}. Best is trial 17 with value: 0.6632726221373149.\u001b[0m\n",
      "\u001b[32m[I 2021-08-29 20:30:48,510]\u001b[0m Trial 19 finished with value: 0.6620930516732546 and parameters: {'sampling_strategy': 0.25957131510878134, 'is_unbalance': True}. Best is trial 17 with value: 0.6632726221373149.\u001b[0m\n",
      "\u001b[32m[I 2021-08-29 20:30:49,733]\u001b[0m Trial 20 finished with value: 0.6580763578330517 and parameters: {'sampling_strategy': 0.366073648819013, 'is_unbalance': True}. Best is trial 17 with value: 0.6632726221373149.\u001b[0m\n",
      "\u001b[32m[I 2021-08-29 20:30:51,518]\u001b[0m Trial 21 finished with value: 0.6617351459773002 and parameters: {'sampling_strategy': 0.2646153673063882, 'is_unbalance': True}. Best is trial 17 with value: 0.6632726221373149.\u001b[0m\n",
      "\u001b[32m[I 2021-08-29 20:30:53,437]\u001b[0m Trial 22 finished with value: 0.6622757451911355 and parameters: {'sampling_strategy': 0.26186766409815254, 'is_unbalance': True}. Best is trial 17 with value: 0.6632726221373149.\u001b[0m\n",
      "\u001b[32m[I 2021-08-29 20:30:55,037]\u001b[0m Trial 23 finished with value: 0.6578981929274375 and parameters: {'sampling_strategy': 0.32478231448521167, 'is_unbalance': True}. Best is trial 17 with value: 0.6632726221373149.\u001b[0m\n",
      "\u001b[32m[I 2021-08-29 20:30:56,804]\u001b[0m Trial 24 finished with value: 0.6539866073892208 and parameters: {'sampling_strategy': 0.3991563762294763, 'is_unbalance': True}. Best is trial 17 with value: 0.6632726221373149.\u001b[0m\n",
      "\u001b[32m[I 2021-08-29 20:30:58,522]\u001b[0m Trial 25 finished with value: 0.6571528013661629 and parameters: {'sampling_strategy': 0.41076327109877686, 'is_unbalance': True}. Best is trial 17 with value: 0.6632726221373149.\u001b[0m\n",
      "\u001b[32m[I 2021-08-29 20:31:00,559]\u001b[0m Trial 26 finished with value: 0.653913460562576 and parameters: {'sampling_strategy': 0.3076010304058152, 'is_unbalance': True}. Best is trial 17 with value: 0.6632726221373149.\u001b[0m\n",
      "\u001b[32m[I 2021-08-29 20:31:02,180]\u001b[0m Trial 27 finished with value: 0.6541235423192342 and parameters: {'sampling_strategy': 0.33477683004848857, 'is_unbalance': True}. Best is trial 17 with value: 0.6632726221373149.\u001b[0m\n",
      "\u001b[32m[I 2021-08-29 20:31:03,968]\u001b[0m Trial 28 finished with value: 0.6604588676080347 and parameters: {'sampling_strategy': 0.2628158158412029, 'is_unbalance': True}. Best is trial 17 with value: 0.6632726221373149.\u001b[0m\n",
      "\u001b[32m[I 2021-08-29 20:31:05,449]\u001b[0m Trial 29 finished with value: 0.6542195794815887 and parameters: {'sampling_strategy': 0.4313734238170597, 'is_unbalance': True}. Best is trial 17 with value: 0.6632726221373149.\u001b[0m\n",
      "\u001b[32m[I 2021-08-29 20:31:06,703]\u001b[0m Trial 30 finished with value: 0.6514917892787364 and parameters: {'sampling_strategy': 0.5325157098640367, 'is_unbalance': True}. Best is trial 17 with value: 0.6632726221373149.\u001b[0m\n",
      "\u001b[32m[I 2021-08-29 20:31:08,130]\u001b[0m Trial 31 finished with value: 0.6621196617449764 and parameters: {'sampling_strategy': 0.2680009511312564, 'is_unbalance': True}. Best is trial 17 with value: 0.6632726221373149.\u001b[0m\n",
      "\u001b[32m[I 2021-08-29 20:31:09,681]\u001b[0m Trial 32 finished with value: 0.659097240409843 and parameters: {'sampling_strategy': 0.3116799279201198, 'is_unbalance': True}. Best is trial 17 with value: 0.6632726221373149.\u001b[0m\n",
      "\u001b[32m[I 2021-08-29 20:31:11,372]\u001b[0m Trial 33 finished with value: 0.6618825546650287 and parameters: {'sampling_strategy': 0.25889024574786657, 'is_unbalance': True}. Best is trial 17 with value: 0.6632726221373149.\u001b[0m\n",
      "\u001b[32m[I 2021-08-29 20:31:12,706]\u001b[0m Trial 34 finished with value: 0.660612482172062 and parameters: {'sampling_strategy': 0.34848477023913205, 'is_unbalance': True}. Best is trial 17 with value: 0.6632726221373149.\u001b[0m\n",
      "\u001b[32m[I 2021-08-29 20:31:14,154]\u001b[0m Trial 35 finished with value: 0.6558009390039129 and parameters: {'sampling_strategy': 0.30077414475964276, 'is_unbalance': True}. Best is trial 17 with value: 0.6632726221373149.\u001b[0m\n",
      "\u001b[32m[I 2021-08-29 20:31:15,507]\u001b[0m Trial 36 finished with value: 0.6542811535424504 and parameters: {'sampling_strategy': 0.37582126763440565, 'is_unbalance': True}. Best is trial 17 with value: 0.6632726221373149.\u001b[0m\n"
     ]
    },
    {
     "name": "stderr",
     "output_type": "stream",
     "text": [
      "\u001b[32m[I 2021-08-29 20:31:16,927]\u001b[0m Trial 37 finished with value: 0.662642221334908 and parameters: {'sampling_strategy': 0.29809974740039974, 'is_unbalance': True}. Best is trial 17 with value: 0.6632726221373149.\u001b[0m\n",
      "\u001b[32m[I 2021-08-29 20:31:18,347]\u001b[0m Trial 38 finished with value: 0.6562757843577475 and parameters: {'sampling_strategy': 0.43211370276204886, 'is_unbalance': False}. Best is trial 17 with value: 0.6632726221373149.\u001b[0m\n",
      "\u001b[32m[I 2021-08-29 20:31:19,548]\u001b[0m Trial 39 finished with value: 0.6354453690233525 and parameters: {'sampling_strategy': 0.8235193040013951, 'is_unbalance': True}. Best is trial 17 with value: 0.6632726221373149.\u001b[0m\n",
      "\u001b[32m[I 2021-08-29 20:31:20,994]\u001b[0m Trial 40 finished with value: 0.6608583461050834 and parameters: {'sampling_strategy': 0.3467512134402687, 'is_unbalance': False}. Best is trial 17 with value: 0.6632726221373149.\u001b[0m\n",
      "\u001b[32m[I 2021-08-29 20:31:22,528]\u001b[0m Trial 41 finished with value: 0.6613614292998722 and parameters: {'sampling_strategy': 0.2945539738838095, 'is_unbalance': True}. Best is trial 17 with value: 0.6632726221373149.\u001b[0m\n",
      "\u001b[32m[I 2021-08-29 20:31:24,178]\u001b[0m Trial 42 finished with value: 0.6559946458358658 and parameters: {'sampling_strategy': 0.2897311615868283, 'is_unbalance': True}. Best is trial 17 with value: 0.6632726221373149.\u001b[0m\n",
      "\u001b[32m[I 2021-08-29 20:31:25,621]\u001b[0m Trial 43 finished with value: 0.6513084220273948 and parameters: {'sampling_strategy': 0.38239254198654815, 'is_unbalance': True}. Best is trial 17 with value: 0.6632726221373149.\u001b[0m\n",
      "\u001b[32m[I 2021-08-29 20:31:27,223]\u001b[0m Trial 44 finished with value: 0.658033765953958 and parameters: {'sampling_strategy': 0.2861222112806521, 'is_unbalance': True}. Best is trial 17 with value: 0.6632726221373149.\u001b[0m\n",
      "\u001b[32m[I 2021-08-29 20:31:28,506]\u001b[0m Trial 45 finished with value: 0.6418050719199448 and parameters: {'sampling_strategy': 0.6782100743897518, 'is_unbalance': True}. Best is trial 17 with value: 0.6632726221373149.\u001b[0m\n",
      "\u001b[32m[I 2021-08-29 20:31:30,031]\u001b[0m Trial 46 finished with value: 0.6540147628562281 and parameters: {'sampling_strategy': 0.32993161481851346, 'is_unbalance': False}. Best is trial 17 with value: 0.6632726221373149.\u001b[0m\n",
      "\u001b[32m[I 2021-08-29 20:31:31,797]\u001b[0m Trial 47 finished with value: 0.653138552074804 and parameters: {'sampling_strategy': 0.4156785215451128, 'is_unbalance': True}. Best is trial 17 with value: 0.6632726221373149.\u001b[0m\n",
      "\u001b[32m[I 2021-08-29 20:31:33,577]\u001b[0m Trial 48 finished with value: 0.6370834869736891 and parameters: {'sampling_strategy': 0.2557384753812023, 'is_unbalance': False}. Best is trial 17 with value: 0.6632726221373149.\u001b[0m\n",
      "\u001b[32m[I 2021-08-29 20:31:34,928]\u001b[0m Trial 49 finished with value: 0.6314188224880299 and parameters: {'sampling_strategy': 0.9453516684703656, 'is_unbalance': True}. Best is trial 17 with value: 0.6632726221373149.\u001b[0m\n"
     ]
    },
    {
     "name": "stdout",
     "output_type": "stream",
     "text": [
      "Best model\n",
      "Mean validation F1:  0.6632726221373149 \n",
      "\n"
     ]
    },
    {
     "ename": "ImportError",
     "evalue": "Tried to import 'plotly' but failed. Please make sure that the package is installed correctly to use this feature. Actual error: No module named 'plotly'.",
     "output_type": "error",
     "traceback": [
      "\u001b[1;31m---------------------------------------------------------------------------\u001b[0m",
      "\u001b[1;31mModuleNotFoundError\u001b[0m                       Traceback (most recent call last)",
      "\u001b[1;32m~\\anaconda3\\lib\\site-packages\\optuna\\visualization\\_plotly_imports.py\u001b[0m in \u001b[0;36m<module>\u001b[1;34m\u001b[0m\n\u001b[0;32m      6\u001b[0m \u001b[1;32mwith\u001b[0m \u001b[0mtry_import\u001b[0m\u001b[1;33m(\u001b[0m\u001b[1;33m)\u001b[0m \u001b[1;32mas\u001b[0m \u001b[0m_imports\u001b[0m\u001b[1;33m:\u001b[0m  \u001b[1;31m# NOQA\u001b[0m\u001b[1;33m\u001b[0m\u001b[1;33m\u001b[0m\u001b[0m\n\u001b[1;32m----> 7\u001b[1;33m     \u001b[1;32mimport\u001b[0m \u001b[0mplotly\u001b[0m  \u001b[1;31m# NOQA\u001b[0m\u001b[1;33m\u001b[0m\u001b[1;33m\u001b[0m\u001b[0m\n\u001b[0m\u001b[0;32m      8\u001b[0m     \u001b[1;32mfrom\u001b[0m \u001b[0mplotly\u001b[0m \u001b[1;32mimport\u001b[0m \u001b[0m__version__\u001b[0m \u001b[1;32mas\u001b[0m \u001b[0mplotly_version\u001b[0m\u001b[1;33m\u001b[0m\u001b[1;33m\u001b[0m\u001b[0m\n",
      "\u001b[1;31mModuleNotFoundError\u001b[0m: No module named 'plotly'",
      "\nThe above exception was the direct cause of the following exception:\n",
      "\u001b[1;31mImportError\u001b[0m                               Traceback (most recent call last)",
      "\u001b[1;32m<ipython-input-9-dcbb94dfa07a>\u001b[0m in \u001b[0;36m<module>\u001b[1;34m\u001b[0m\n\u001b[0;32m     28\u001b[0m \u001b[0mstudy\u001b[0m\u001b[1;33m.\u001b[0m\u001b[0mbest_params\u001b[0m\u001b[1;33m\u001b[0m\u001b[1;33m\u001b[0m\u001b[0m\n\u001b[0;32m     29\u001b[0m \u001b[1;33m\u001b[0m\u001b[0m\n\u001b[1;32m---> 30\u001b[1;33m \u001b[0mplot_optimization_history\u001b[0m\u001b[1;33m(\u001b[0m\u001b[0mstudy\u001b[0m\u001b[1;33m)\u001b[0m\u001b[1;33m\u001b[0m\u001b[1;33m\u001b[0m\u001b[0m\n\u001b[0m",
      "\u001b[1;32m~\\anaconda3\\lib\\site-packages\\optuna\\visualization\\_optimization_history.py\u001b[0m in \u001b[0;36mplot_optimization_history\u001b[1;34m(study, target, target_name)\u001b[0m\n\u001b[0;32m     71\u001b[0m     \"\"\"\n\u001b[0;32m     72\u001b[0m \u001b[1;33m\u001b[0m\u001b[0m\n\u001b[1;32m---> 73\u001b[1;33m     \u001b[0m_imports\u001b[0m\u001b[1;33m.\u001b[0m\u001b[0mcheck\u001b[0m\u001b[1;33m(\u001b[0m\u001b[1;33m)\u001b[0m\u001b[1;33m\u001b[0m\u001b[1;33m\u001b[0m\u001b[0m\n\u001b[0m\u001b[0;32m     74\u001b[0m     \u001b[0m_check_plot_args\u001b[0m\u001b[1;33m(\u001b[0m\u001b[0mstudy\u001b[0m\u001b[1;33m,\u001b[0m \u001b[0mtarget\u001b[0m\u001b[1;33m,\u001b[0m \u001b[0mtarget_name\u001b[0m\u001b[1;33m)\u001b[0m\u001b[1;33m\u001b[0m\u001b[1;33m\u001b[0m\u001b[0m\n\u001b[0;32m     75\u001b[0m     \u001b[1;32mreturn\u001b[0m \u001b[0m_get_optimization_history_plot\u001b[0m\u001b[1;33m(\u001b[0m\u001b[0mstudy\u001b[0m\u001b[1;33m,\u001b[0m \u001b[0mtarget\u001b[0m\u001b[1;33m,\u001b[0m \u001b[0mtarget_name\u001b[0m\u001b[1;33m)\u001b[0m\u001b[1;33m\u001b[0m\u001b[1;33m\u001b[0m\u001b[0m\n",
      "\u001b[1;32m~\\anaconda3\\lib\\site-packages\\optuna\\_imports.py\u001b[0m in \u001b[0;36mcheck\u001b[1;34m(self)\u001b[0m\n\u001b[0;32m     84\u001b[0m         \u001b[1;32mif\u001b[0m \u001b[0mself\u001b[0m\u001b[1;33m.\u001b[0m\u001b[0m_deferred\u001b[0m \u001b[1;32mis\u001b[0m \u001b[1;32mnot\u001b[0m \u001b[1;32mNone\u001b[0m\u001b[1;33m:\u001b[0m\u001b[1;33m\u001b[0m\u001b[1;33m\u001b[0m\u001b[0m\n\u001b[0;32m     85\u001b[0m             \u001b[0mexc_value\u001b[0m\u001b[1;33m,\u001b[0m \u001b[0mmessage\u001b[0m \u001b[1;33m=\u001b[0m \u001b[0mself\u001b[0m\u001b[1;33m.\u001b[0m\u001b[0m_deferred\u001b[0m\u001b[1;33m\u001b[0m\u001b[1;33m\u001b[0m\u001b[0m\n\u001b[1;32m---> 86\u001b[1;33m             \u001b[1;32mraise\u001b[0m \u001b[0mImportError\u001b[0m\u001b[1;33m(\u001b[0m\u001b[0mmessage\u001b[0m\u001b[1;33m)\u001b[0m \u001b[1;32mfrom\u001b[0m \u001b[0mexc_value\u001b[0m\u001b[1;33m\u001b[0m\u001b[1;33m\u001b[0m\u001b[0m\n\u001b[0m\u001b[0;32m     87\u001b[0m \u001b[1;33m\u001b[0m\u001b[0m\n\u001b[0;32m     88\u001b[0m \u001b[1;33m\u001b[0m\u001b[0m\n",
      "\u001b[1;31mImportError\u001b[0m: Tried to import 'plotly' but failed. Please make sure that the package is installed correctly to use this feature. Actual error: No module named 'plotly'."
     ]
    }
   ],
   "source": [
    "def rus_objective(trial):\n",
    "    cv_scores = []\n",
    "    cv = StratifiedKFold(5, random_state = 42, shuffle=True)\n",
    "    for array_idxs in cv.split(X_train, y_train):\n",
    "        train_index, val_index = array_idxs[0], array_idxs[1]\n",
    "        X_train_kf, X_val = X_train.loc[train_index], X_train.loc[val_index]\n",
    "        y_train_kf, y_val = y_train.loc[train_index], y_train.loc[val_index]\n",
    "        rus = RandomUnderSampler(\n",
    "            sampling_strategy = trial.suggest_float('sampling_strategy', 0.253, 1), \n",
    "            random_state=42\n",
    "        )\n",
    "        X_train_res, y_train_res = rus.fit_resample(X_train_kf, y_train_kf)\n",
    "        clf = LGBMClassifier(\n",
    "            random_state=42, \n",
    "            n_jobs=-1, \n",
    "            importance_type='gain', \n",
    "            is_unbalance=trial.suggest_categorical('is_unbalance', [False, True])\n",
    "        ).fit(X_train_res, y_train_res)\n",
    "        cv_scores.append(f1_score(y_val, clf.predict(X_val)))\n",
    "    return pd.Series(cv_scores).mean()\n",
    "\n",
    "study = optuna.create_study(sampler=TPESampler(seed = 42), direction='maximize')\n",
    "study.optimize(rus_objective, n_trials=50)\n",
    "\n",
    "print('Best model')\n",
    "print('Mean validation F1: ', study.best_value, '\\n')\n",
    "study.best_params\n",
    "\n",
    "plot_optimization_history(study)"
   ]
  },
  {
   "cell_type": "code",
   "execution_count": 10,
   "metadata": {
    "execution": {
     "iopub.execute_input": "2021-08-29T13:50:00.114657Z",
     "iopub.status.busy": "2021-08-29T13:50:00.113975Z",
     "iopub.status.idle": "2021-08-29T13:50:02.478171Z",
     "shell.execute_reply": "2021-08-29T13:50:02.477178Z",
     "shell.execute_reply.started": "2021-08-29T13:50:00.114616Z"
    }
   },
   "outputs": [
    {
     "ename": "SyntaxError",
     "evalue": "invalid syntax (<ipython-input-10-98982f601c2b>, line 10)",
     "output_type": "error",
     "traceback": [
      "\u001b[1;36m  File \u001b[1;32m\"<ipython-input-10-98982f601c2b>\"\u001b[1;36m, line \u001b[1;32m10\u001b[0m\n\u001b[1;33m    clf = LGBMClassifier(random_state=42, n_jobs=-1, importance_type='gain', is_unbalance=).fit(X_train_res, y_train_res)\u001b[0m\n\u001b[1;37m                                                                                          ^\u001b[0m\n\u001b[1;31mSyntaxError\u001b[0m\u001b[1;31m:\u001b[0m invalid syntax\n"
     ]
    }
   ],
   "source": [
    "models_list = []\n",
    "cv_scores = []\n",
    "cv = StratifiedKFold(5, random_state = 42, shuffle=True)\n",
    "for array_idxs in tqdm(cv.split(X_train, y_train)):\n",
    "    train_index, val_index = array_idxs[0], array_idxs[1]\n",
    "    X_train_kf, X_val = X_train.loc[train_index], X_train.loc[val_index]\n",
    "    y_train_kf, y_val = y_train.loc[train_index], y_train.loc[val_index]\n",
    "    rus = RandomUnderSampler(sampling_strategy = study.best_params['sampling_strategy'], random_state=42)\n",
    "    X_train_res, y_train_res = rus.fit_resample(X_train_kf, y_train_kf)\n",
    "    clf = LGBMClassifier(\n",
    "        random_state=42, \n",
    "        n_jobs=-1, \n",
    "        importance_type='gain', \n",
    "        is_unbalance=study.best_params['is_unbalance']\n",
    "    ).fit(X_train_res, y_train_res)\n",
    "    cv_scores.append(f1_score(y_val, clf.predict(X_val)))\n",
    "    models_list.append(clf)\n",
    "display(cv_scores)\n",
    "print(pd.Series(cv_scores).mean())"
   ]
  },
  {
   "cell_type": "code",
   "execution_count": null,
   "metadata": {
    "execution": {
     "iopub.execute_input": "2021-08-29T13:18:23.746653Z",
     "iopub.status.busy": "2021-08-29T13:18:23.746075Z",
     "iopub.status.idle": "2021-08-29T13:18:23.75932Z",
     "shell.execute_reply": "2021-08-29T13:18:23.757994Z",
     "shell.execute_reply.started": "2021-08-29T13:18:23.746607Z"
    },
    "scrolled": true
   },
   "outputs": [],
   "source": [
    "raw_imp_vetors = [model.feature_importances_.reshape(1, -1) for model in models_list]\n",
    "raw_imp_matrix = np.concatenate(raw_imp_vetors, axis=0)\n",
    "norm_imp = raw_imp_matrix / raw_imp_matrix.sum(1).reshape(-1, 1)\n",
    "mean_imp = norm_imp.mean(0)\n",
    "imp_series = pd.Series(mean_imp, index=X_train.columns).sort_values(ascending=False)\n",
    "imp_series"
   ]
  },
  {
   "cell_type": "markdown",
   "metadata": {},
   "source": [
    "# Submission"
   ]
  },
  {
   "cell_type": "code",
   "execution_count": null,
   "metadata": {
    "execution": {
     "iopub.execute_input": "2021-08-29T13:19:46.788021Z",
     "iopub.status.busy": "2021-08-29T13:19:46.787588Z",
     "iopub.status.idle": "2021-08-29T13:19:47.226828Z",
     "shell.execute_reply": "2021-08-29T13:19:47.22568Z",
     "shell.execute_reply.started": "2021-08-29T13:19:46.787984Z"
    }
   },
   "outputs": [],
   "source": [
    "X_test = test.drop(columns=['id'])\n",
    "submission = test[['id']]\n",
    "\n",
    "# Scoring ensemble\n",
    "target = np.zeros(len(X_test))\n",
    "for model in models_list:\n",
    "    pred = model.predict(X_test, num_iteration=model.best_iteration_)\n",
    "    target += pred / len(models_list)\n",
    "\n",
    "submission = submission.assign(predicted = np.round(target)).astype('int')"
   ]
  },
  {
   "cell_type": "code",
   "execution_count": null,
   "metadata": {
    "execution": {
     "iopub.execute_input": "2021-08-29T13:19:59.012012Z",
     "iopub.status.busy": "2021-08-29T13:19:59.011659Z",
     "iopub.status.idle": "2021-08-29T13:19:59.022765Z",
     "shell.execute_reply": "2021-08-29T13:19:59.021733Z",
     "shell.execute_reply.started": "2021-08-29T13:19:59.011982Z"
    }
   },
   "outputs": [],
   "source": [
    "submission.head()"
   ]
  },
  {
   "cell_type": "code",
   "execution_count": null,
   "metadata": {
    "execution": {
     "iopub.execute_input": "2021-08-29T13:20:02.695548Z",
     "iopub.status.busy": "2021-08-29T13:20:02.695159Z",
     "iopub.status.idle": "2021-08-29T13:20:02.745186Z",
     "shell.execute_reply": "2021-08-29T13:20:02.744331Z",
     "shell.execute_reply.started": "2021-08-29T13:20:02.695518Z"
    }
   },
   "outputs": [],
   "source": [
    "submission.to_csv('submission.csv', index=False)"
   ]
  },
  {
   "cell_type": "code",
   "execution_count": null,
   "metadata": {},
   "outputs": [],
   "source": []
  }
 ],
 "metadata": {
  "kernelspec": {
   "display_name": "Python 3",
   "language": "python",
   "name": "python3"
  },
  "language_info": {
   "codemirror_mode": {
    "name": "ipython",
    "version": 3
   },
   "file_extension": ".py",
   "mimetype": "text/x-python",
   "name": "python",
   "nbconvert_exporter": "python",
   "pygments_lexer": "ipython3",
   "version": "3.8.8"
  }
 },
 "nbformat": 4,
 "nbformat_minor": 4
}
